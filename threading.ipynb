{
 "cells": [
  {
   "cell_type": "code",
   "execution_count": 3,
   "metadata": {},
   "outputs": [
    {
     "data": {
      "text/plain": [
       "5"
      ]
     },
     "execution_count": 3,
     "metadata": {},
     "output_type": "execute_result"
    }
   ],
   "source": [
    "import threading\n",
    "\n",
    "threading.active_count() #有幾個active的thread"
   ]
  },
  {
   "cell_type": "code",
   "execution_count": 4,
   "metadata": {},
   "outputs": [
    {
     "data": {
      "text/plain": [
       "[<_MainThread(MainThread, started 140736680096704)>,\n",
       " <Thread(Thread-2, started daemon 123145392816128)>,\n",
       " <Heartbeat(Thread-3, started daemon 123145398071296)>,\n",
       " <HistorySavingThread(IPythonHistorySavingThread, started 123145404399616)>,\n",
       " <ParentPollerUnix(Thread-1, started daemon 123145409654784)>]"
      ]
     },
     "execution_count": 4,
     "metadata": {},
     "output_type": "execute_result"
    }
   ],
   "source": [
    "threading.enumerate() #這些thread分別是什麼\n",
    "# [<_MainThread(MainThread, started 140736011932608)>, <Thread(SockThread, started daemon 123145376751616)>, ...]"
   ]
  },
  {
   "cell_type": "code",
   "execution_count": 6,
   "metadata": {},
   "outputs": [
    {
     "data": {
      "text/plain": [
       "<_MainThread(MainThread, started 140736680096704)>"
      ]
     },
     "execution_count": 6,
     "metadata": {},
     "output_type": "execute_result"
    }
   ],
   "source": [
    "threading.current_thread() #目前正在運行的thread\n",
    "# <_MainThread(MainThread, started 140736011932608)>"
   ]
  },
  {
   "cell_type": "code",
   "execution_count": 7,
   "metadata": {},
   "outputs": [
    {
     "name": "stdout",
     "output_type": "stream",
     "text": [
      "This is a thread of <Thread(Thread-4, started 123145414909952)>\n"
     ]
    }
   ],
   "source": [
    "def thread_job():\n",
    "    print('This is a thread of %s' % threading.current_thread())\n",
    "\n",
    "def main():\n",
    "    thread = threading.Thread(target=thread_job)   #添加一個thread\n",
    "    thread.start()  # 執行thread\n",
    "    \n",
    "if __name__ == '__main__':\n",
    "    main()"
   ]
  },
  {
   "cell_type": "code",
   "execution_count": 10,
   "metadata": {},
   "outputs": [
    {
     "name": "stdout",
     "output_type": "stream",
     "text": [
      "T1 start\n",
      "\n",
      "all done\n",
      "\n",
      "T1 finish\n",
      "\n"
     ]
    }
   ],
   "source": [
    "import threading\n",
    "import time\n",
    "\n",
    "def thread_job():\n",
    "    print(\"T1 start\\n\")\n",
    "    for i in range(10):\n",
    "        time.sleep(0.1) # 任务间隔0.1s\n",
    "    print(\"T1 finish\\n\")\n",
    "\n",
    "added_thread = threading.Thread(target=thread_job, name='T1')\n",
    "added_thread.start()\n",
    "# added_thread.join() #join後 要等待 added_thread 結束後,才接下去作另一個功能\n",
    "print(\"all done\\n\")"
   ]
  },
  {
   "cell_type": "markdown",
   "metadata": {},
   "source": [
    "# join()\n",
    "程式在跑的時候主要是運行 MainThread\n",
    "\n",
    "$ threading.current_thread() #目前正在運行的thread\n",
    "\n",
    "再添加thread的時候,所有thread會同步運行,\n",
    "\n",
    "而當有thread使用 join() 則是把這個thread join 到 MainThread,\n",
    "\n",
    "以至於 MainThread (script中沒有被寫進threading.Thread(target=ＸＸＸ)的程式碼)\n",
    "\n",
    "必須等待此join進來的thread執行完畢後再繼續往下運行！\n",
    "\n",
    "ps. 程式運行 MainThread 所以當有新thread join時, 其他已經啟動的thread(除MainThread), 不會等待join的thread,\n",
    "但是！ 要是新的 thread 還沒被 MainThread 執行到啟動, 則還是要一起等待先前 join 進來的 thread 結束, MainThread 才會執行, 新的 thread 也才會被啟動與 MainThread 一起執行."
   ]
  },
  {
   "cell_type": "code",
   "execution_count": 25,
   "metadata": {},
   "outputs": [
    {
     "name": "stdout",
     "output_type": "stream",
     "text": [
      "<_MainThread(MainThread, started 140736680096704)>\n",
      "T1 start <Thread(T1, started 123145414909952)>\n",
      "\n",
      "T2 start <Thread(T2, started 123145420165120)>\n",
      "\n",
      "all done <_MainThread(MainThread, started 140736680096704)>\n",
      "\n",
      "T1 finish <Thread(T1, started 123145414909952)>\n",
      "\n",
      "T2 finish <Thread(T2, started 123145420165120)>\n",
      "\n"
     ]
    }
   ],
   "source": [
    "def T1_job():\n",
    "    print(f\"T1 start {threading.current_thread()}\\n\")\n",
    "    for i in range(10):\n",
    "        time.sleep(0.1)\n",
    "    print(f\"T1 finish {threading.current_thread()}\\n\")\n",
    "\n",
    "def T2_job():\n",
    "    print(f\"T2 start {threading.current_thread()}\\n\")\n",
    "    time.sleep(5)\n",
    "    print(f\"T2 finish {threading.current_thread()}\\n\")\n",
    "\n",
    "    \n",
    "print(threading.current_thread())\n",
    "thread_1 = threading.Thread(target=T1_job, name='T1')\n",
    "thread_2 = threading.Thread(target=T2_job, name='T2')\n",
    "thread_1.start() # 开启T1\n",
    "# thread_1.join() \n",
    "thread_2.start() # 开启T2\n",
    "# thread_2.join()\n",
    "# print(threading.enumerate())\n",
    "print(f\"all done {threading.current_thread()}\\n\")"
   ]
  },
  {
   "cell_type": "code",
   "execution_count": 26,
   "metadata": {},
   "outputs": [
    {
     "name": "stdout",
     "output_type": "stream",
     "text": [
      "[[1, 4, 9], [9, 16, 25], [16, 16, 16], [25, 25, 25]]\n"
     ]
    }
   ],
   "source": [
    "# 添加的thread無法return值, 所以如果需要返回數值回主線程運算, 需要儲存隊列\n",
    "import threading\n",
    "import time\n",
    "\n",
    "from queue import Queue\n",
    "\n",
    "def job(l,q):\n",
    "    for i in range(len(l)):\n",
    "        l[i] = l[i]**2\n",
    "    q.put(l)\n",
    "\n",
    "def multithreading():\n",
    "    q = Queue()\n",
    "    threads = []\n",
    "    data = [[1,2,3],[3,4,5],[4,4,4],[5,5,5]]\n",
    "    \n",
    "    for i in range(4):  # 運行四個線程 來計算data的四個元素\n",
    "        t = threading.Thread(target=job, args=(data[i], q))\n",
    "        t.start()\n",
    "        threads.append(t)\n",
    "        \n",
    "    for thread in threads:\n",
    "        thread.join()  # 讓主線程等待所有 thread完成 再繼續往下做\n",
    "        \n",
    "    results = []\n",
    "    for _ in range(4):\n",
    "          results.append(q.get())\n",
    "    print(results)\n",
    "\n",
    "if __name__ == '__main__':\n",
    "    multithreading()"
   ]
  },
  {
   "cell_type": "code",
   "execution_count": 29,
   "metadata": {},
   "outputs": [
    {
     "name": "stdout",
     "output_type": "stream",
     "text": [
      "1999998000000\n",
      "normal:  0.06835818290710449\n",
      "1999998000000\n",
      "multithreading:  0.06331515312194824\n"
     ]
    }
   ],
   "source": [
    "# GIL (global interpreter lock),多個thread其實一次只執行一個,只是互相切換\n",
    "# 原理是一次只運行一個 thread, 並且用GIL讓程序指運行此thread, 然後在 I/O 的時候把運行權力交給下一個thread,\n",
    "# 所以雖然用了多線程,但實際上是多個線程輪流在I/O時切換工作, “減少需要讀寫所花費的時間”\n",
    "# 所以還是要看情況, multithreading 不一定能夠提高處理效率！\n",
    "# 如果你的程序大部分只會涉及到I/O，比如網絡交互，那麼使用多線程就很合適，因為它們大部分時間都在等待。\n",
    "import threading\n",
    "from queue import Queue\n",
    "import copy\n",
    "import time\n",
    "\n",
    "def job(l, q):\n",
    "    res = sum(l)\n",
    "    q.put(res)\n",
    "\n",
    "def multithreading(l):\n",
    "    q = Queue()\n",
    "    threads = []\n",
    "    for i in range(4):\n",
    "        t = threading.Thread(target=job, args=(copy.copy(l), q), name='T%i' % i)\n",
    "        t.start()\n",
    "        threads.append(t)\n",
    "    [t.join() for t in threads]\n",
    "    total = 0\n",
    "    for _ in range(4):\n",
    "        total += q.get()\n",
    "    print(total)\n",
    "\n",
    "def normal(l):\n",
    "    total = sum(l)\n",
    "    print(total)\n",
    "\n",
    "if __name__ == '__main__':\n",
    "    l = list(range(1000000))\n",
    "    s_t = time.time()\n",
    "    normal(l*4)\n",
    "    print('normal: ',time.time()-s_t)\n",
    "    s_t = time.time()\n",
    "    multithreading(l)\n",
    "    print('multithreading: ', time.time()-s_t)"
   ]
  },
  {
   "cell_type": "code",
   "execution_count": 30,
   "metadata": {},
   "outputs": [
    {
     "name": "stdout",
     "output_type": "stream",
     "text": [
      "job1=1 \n",
      "\n",
      "job1=2 \n",
      "\n",
      "job1=3 \n",
      "\n",
      "job1=4 \n",
      "\n",
      "job1=5 \n",
      "\n",
      "job1=6 \n",
      "\n",
      "job1=7 \n",
      "\n",
      "job1=8 \n",
      "\n",
      "job1=9 \n",
      "\n",
      "job1=10 \n",
      "\n",
      "job2=20 \n",
      "\n",
      "job2=30 \n",
      "\n",
      "job2=40 \n",
      "\n",
      "job2=50 \n",
      "\n",
      "job2=60 \n",
      "\n",
      "job2=70 \n",
      "\n",
      "job2=80 \n",
      "\n",
      "job2=90 \n",
      "\n",
      "job2=100 \n",
      "\n",
      "job2=110 \n",
      "\n"
     ]
    }
   ],
   "source": [
    "#當兩個thread需要用到共享的內存,需要lock功能\n",
    "#若不用lock,此案例會job1與job2同時運行,A會亂跳\n",
    "import threading\n",
    "def job1():\n",
    "    global A, lock\n",
    "    lock.acquire() #開始lock\n",
    "    for i in range(10):\n",
    "        A += 1\n",
    "        print(f'job1={A} \\n')\n",
    "    lock.release() #結束lock\n",
    "\n",
    "def job2():\n",
    "    global A, lock\n",
    "    lock.acquire()\n",
    "    for i in range(10):\n",
    "        A += 10\n",
    "        print(f'job2={A} \\n')\n",
    "    lock.release()\n",
    "\n",
    "if __name__ == '__main__':\n",
    "    lock = threading.Lock()\n",
    "    A = 0  #共享內存,全局變量\n",
    "    t1 = threading.Thread(target=job1)\n",
    "    t2 = threading.Thread(target=job2)\n",
    "    t1.start()\n",
    "    t2.start()\n",
    "    t1.join()\n",
    "    t2.join()\n"
   ]
  },
  {
   "cell_type": "code",
   "execution_count": null,
   "metadata": {},
   "outputs": [],
   "source": []
  }
 ],
 "metadata": {
  "kernelspec": {
   "display_name": "Python 3",
   "language": "python",
   "name": "python3"
  },
  "language_info": {
   "codemirror_mode": {
    "name": "ipython",
    "version": 3
   },
   "file_extension": ".py",
   "mimetype": "text/x-python",
   "name": "python",
   "nbconvert_exporter": "python",
   "pygments_lexer": "ipython3",
   "version": "3.6.4"
  }
 },
 "nbformat": 4,
 "nbformat_minor": 2
}
