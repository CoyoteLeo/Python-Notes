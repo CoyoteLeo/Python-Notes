{
 "cells": [
  {
   "cell_type": "code",
   "execution_count": 5,
   "metadata": {
    "collapsed": false
   },
   "outputs": [
    {
     "data": {
      "text/plain": [
       "[<_MainThread(MainThread, started 140632979371776)>,\n",
       " <Thread(Thread-2, started daemon 140632731416320)>,\n",
       " <Heartbeat(Thread-3, started daemon 140632723023616)>,\n",
       " <HistorySavingThread(IPythonHistorySavingThread, started 140632697845504)>,\n",
       " <ParentPollerUnix(Thread-1, started daemon 140632688928512)>]"
      ]
     },
     "execution_count": 5,
     "metadata": {},
     "output_type": "execute_result"
    }
   ],
   "source": [
    "import threading\n",
    "\n",
    "threading.active_count() #有幾個active的thread\n",
    "\n",
    "threading.enumerate() #這些thread分別是什麼\n",
    "# [<_MainThread(MainThread, started 140736011932608)>, <Thread(SockThread, started daemon 123145376751616)>]\n"
   ]
  },
  {
   "cell_type": "code",
   "execution_count": 7,
   "metadata": {
    "collapsed": false
   },
   "outputs": [
    {
     "data": {
      "text/plain": [
       "<_MainThread(MainThread, started 140632979371776)>"
      ]
     },
     "execution_count": 7,
     "metadata": {},
     "output_type": "execute_result"
    }
   ],
   "source": [
    "threading.current_thread() #目前正在運行的thread\n",
    "# <_MainThread(MainThread, started 140736011932608)>"
   ]
  },
  {
   "cell_type": "code",
   "execution_count": 8,
   "metadata": {
    "collapsed": false
   },
   "outputs": [
    {
     "name": "stdout",
     "output_type": "stream",
     "text": [
      "This is a thread of <Thread(Thread-4, started 140632680273664)>\n"
     ]
    }
   ],
   "source": [
    "def thread_job():\n",
    "    print('This is a thread of %s' % threading.current_thread())\n",
    "\n",
    "def main():\n",
    "    thread = threading.Thread(target=thread_job)   #添加一個thread\n",
    "    thread.start()  # 執行thread\n",
    "    \n",
    "if __name__ == '__main__':\n",
    "    main()"
   ]
  },
  {
   "cell_type": "code",
   "execution_count": 18,
   "metadata": {
    "collapsed": false
   },
   "outputs": [
    {
     "name": "stdout",
     "output_type": "stream",
     "text": [
      "all done\n",
      "T1 start\n",
      "\n",
      "\n",
      "T1 finish\n",
      "\n"
     ]
    }
   ],
   "source": [
    "import threading\n",
    "import time\n",
    "\n",
    "def thread_job():\n",
    "    print(\"T1 start\\n\")\n",
    "    for i in range(10):\n",
    "        time.sleep(0.1) # 任务间隔0.1s\n",
    "    print(\"T1 finish\\n\")\n",
    "\n",
    "added_thread = threading.Thread(target=thread_job, name='T1')\n",
    "added_thread.start()\n",
    "#added_thread.join() #join後 要等待T1結束後,才接下去作另一個功能\n",
    "print(\"all done\\n\")"
   ]
  },
  {
   "cell_type": "code",
   "execution_count": 34,
   "metadata": {
    "collapsed": false
   },
   "outputs": [
    {
     "name": "stdout",
     "output_type": "stream",
     "text": [
      "all done\n",
      "T1 start\n",
      "T2 start\n",
      "\n",
      "\n",
      "\n",
      "T2 finish\n",
      "\n",
      "T1 finish\n",
      "\n"
     ]
    }
   ],
   "source": [
    "def T1_job():\n",
    "    print(\"T1 start\\n\")\n",
    "    for i in range(10):\n",
    "        time.sleep(0.1)\n",
    "    print(\"T1 finish\\n\")\n",
    "\n",
    "def T2_job():\n",
    "    print(\"T2 start\\n\")\n",
    "    print(\"T2 finish\\n\")\n",
    "\n",
    "thread_1 = threading.Thread(target=T1_job, name='T1')\n",
    "thread_2 = threading.Thread(target=T2_job, name='T2')\n",
    "thread_1.start() # 开启T1\n",
    "#thread_1.join() # notice the difference!\n",
    "thread_2.start() # 开启T2\n",
    "#thread_2.join()\n",
    "#print(threading.enumerate())\n",
    "print(\"all done\\n\")"
   ]
  },
  {
   "cell_type": "code",
   "execution_count": 2,
   "metadata": {
    "collapsed": false
   },
   "outputs": [
    {
     "name": "stdout",
     "output_type": "stream",
     "text": [
      "[[1, 4, 9], [9, 16, 25], [16, 16, 16], [25, 25, 25]]\n"
     ]
    }
   ],
   "source": [
    "import threading\n",
    "import time\n",
    "\n",
    "from queue import Queue\n",
    "\n",
    "def job(l,q):\n",
    "    for i in range(len(l)):\n",
    "        l[i] = l[i]**2\n",
    "    q.put(l)\n",
    "\n",
    "def multithreading():\n",
    "    q = Queue()\n",
    "    threads = []\n",
    "    data = [[1,2,3],[3,4,5],[4,4,4],[5,5,5]]\n",
    "    for i in range(4):\n",
    "        t = threading.Thread(target=job, args=(data[i], q))\n",
    "        t.start()\n",
    "        threads.append(t)\n",
    "    for thread in threads:\n",
    "        thread.join()\n",
    "    results = []\n",
    "    for _ in range(4):\n",
    "          results.append(q.get())\n",
    "    print(results)\n",
    "\n",
    "if __name__ == '__main__':\n",
    "    multithreading()"
   ]
  },
  {
   "cell_type": "code",
   "execution_count": 4,
   "metadata": {
    "collapsed": false
   },
   "outputs": [
    {
     "name": "stdout",
     "output_type": "stream",
     "text": [
      "1999998000000\n",
      "normal:  0.28827476501464844\n",
      "1999998000000\n",
      "multithreading:  0.2793617248535156\n"
     ]
    }
   ],
   "source": [
    "#GIL (global interpreter lock),多個thread其實一次只執行一個,只是互相切換\n",
    "import threading\n",
    "from queue import Queue\n",
    "import copy\n",
    "import time\n",
    "\n",
    "def job(l, q):\n",
    "    res = sum(l)\n",
    "    q.put(res)\n",
    "\n",
    "def multithreading(l):\n",
    "    q = Queue()\n",
    "    threads = []\n",
    "    for i in range(4):\n",
    "        t = threading.Thread(target=job, args=(copy.copy(l), q), name='T%i' % i)\n",
    "        t.start()\n",
    "        threads.append(t)\n",
    "    [t.join() for t in threads]\n",
    "    total = 0\n",
    "    for _ in range(4):\n",
    "        total += q.get()\n",
    "    print(total)\n",
    "\n",
    "def normal(l):\n",
    "    total = sum(l)\n",
    "    print(total)\n",
    "\n",
    "if __name__ == '__main__':\n",
    "    l = list(range(1000000))\n",
    "    s_t = time.time()\n",
    "    normal(l*4)\n",
    "    print('normal: ',time.time()-s_t)\n",
    "    s_t = time.time()\n",
    "    multithreading(l)\n",
    "    print('multithreading: ', time.time()-s_t)"
   ]
  },
  {
   "cell_type": "code",
   "execution_count": 31,
   "metadata": {
    "collapsed": false
   },
   "outputs": [
    {
     "name": "stdout",
     "output_type": "stream",
     "text": [
      "job1job2  201\n",
      "job2\n",
      " job130 \n",
      "2job2\n",
      " job140 \n",
      "3job2\n",
      " job150 \n",
      "4job2\n",
      " job160 \n",
      "5job2\n",
      " job170 \n",
      "6job2\n",
      " job180 \n",
      "7job2\n",
      " job190 \n",
      "8job2\n",
      " job1100 \n",
      "9job2\n",
      " job1110 \n",
      "10\n"
     ]
    }
   ],
   "source": [
    "#當兩個thread需要用到共享的內存,需要lock功能\n",
    "#若不用lock,此案例會job1與job2同時運行,A會亂跳\n",
    "import threading\n",
    "def job1():\n",
    "    global A, lock\n",
    "    lock.acquire() #開始lock\n",
    "    for i in range(10):\n",
    "        A += 1\n",
    "        print('job1', A)\n",
    "    lock.release() #結束lock\n",
    "\n",
    "def job2():\n",
    "    global A, lock\n",
    "    lock.acquire()\n",
    "    for i in range(10):\n",
    "        A += 10\n",
    "        print('job2', A)\n",
    "    lock.release()\n",
    "\n",
    "if __name__ == '__main__':\n",
    "    lock = threading.Lock()\n",
    "    A = 0  #共享內存,全局變量\n",
    "    t1 = threading.Thread(target=job1)\n",
    "    t2 = threading.Thread(target=job2)\n",
    "    t1.start()\n",
    "    t2.start()\n",
    "    t1.join()\n",
    "    t2.join()\n"
   ]
  }
 ],
 "metadata": {
  "kernelspec": {
   "display_name": "Python 3",
   "language": "python",
   "name": "python3"
  },
  "language_info": {
   "codemirror_mode": {
    "name": "ipython",
    "version": 3
   },
   "file_extension": ".py",
   "mimetype": "text/x-python",
   "name": "python",
   "nbconvert_exporter": "python",
   "pygments_lexer": "ipython3",
   "version": "3.6.0"
  }
 },
 "nbformat": 4,
 "nbformat_minor": 2
}
