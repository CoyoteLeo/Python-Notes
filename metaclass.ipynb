{
 "cells": [
  {
   "cell_type": "code",
   "execution_count": 14,
   "metadata": {},
   "outputs": [
    {
     "name": "stdout",
     "output_type": "stream",
     "text": [
      "Hello, world\n",
      "<class 'type'>\n",
      "<class '__main__.Hello'>\n"
     ]
    }
   ],
   "source": [
    "# 動態語言和靜態語言最大的不同，就是函數和類的定義，不是編譯時定義的，而是運行時動態創建的。\n",
    "class Hello(object):\n",
    "    def hello(self, name='world'):\n",
    "        return f'Hello, {name}'\n",
    "        \n",
    "h = Hello()\n",
    "print(h.hello())\n",
    "\n",
    "print(type(Hello))\n",
    "# Hello是一個 class, 所以他的type 是 type\n",
    "\n",
    "print(type(h))\n",
    "# h 是一個 instance, 所以他的type 是 Hello\n",
    "\n",
    "# class的定義是運行時動態創建的，而創建class的方法就是使用type()函數"
   ]
  },
  {
   "cell_type": "code",
   "execution_count": 15,
   "metadata": {},
   "outputs": [
    {
     "name": "stdout",
     "output_type": "stream",
     "text": [
      "Hello, world\n",
      "<class 'type'>\n",
      "<class '__main__.Hello'>\n"
     ]
    }
   ],
   "source": [
    "# type()函數既可以返回一個對象的類型，又可以創建出新的類型\n",
    "\n",
    "def fn(self, name='world'):\n",
    "    return f'Hello, {name}'\n",
    "\n",
    "Hello2 = type('Hello', (object,), dict(hello=fn))\n",
    "\n",
    "h2 = Hello2()\n",
    "print(h2.hello())\n",
    "\n",
    "print(type(Hello2))\n",
    "\n",
    "print(type(h2))"
   ]
  },
  {
   "cell_type": "code",
   "execution_count": 17,
   "metadata": {},
   "outputs": [
    {
     "name": "stdout",
     "output_type": "stream",
     "text": [
      "[]\n",
      "[1]\n"
     ]
    }
   ],
   "source": [
    "# metaclass\n",
    "\n",
    "# metaclass 可以說是 class 的模板，可以控制 class 的創建行為\n",
    "# 通常定義 class 然後創建 instance\n",
    "# 而定義 metaclass 然後創建 class 最後在創建 instance\n",
    "\n",
    "class ListMetaclass(type):\n",
    "    def __new__(cls, name, bases, attrs):\n",
    "        attrs['add'] = lambda self, value: self.append(value)\n",
    "        return type.__new__(cls, name, bases, attrs)  # 利用 type 生出 class\n",
    "    \n",
    "\n",
    "# 使用 metaclass 就是在繼承的地方加上 metaclass=XXX\n",
    "class MyList(list, metaclass=ListMetaclass):\n",
    "    pass\n",
    "\n",
    "L = MyList()\n",
    "print(L)\n",
    "L.add(1)\n",
    "print(L)"
   ]
  },
  {
   "cell_type": "code",
   "execution_count": 20,
   "metadata": {},
   "outputs": [
    {
     "ename": "NameError",
     "evalue": "name 'Model' is not defined",
     "output_type": "error",
     "traceback": [
      "\u001b[0;31m---------------------------------------------------------------------------\u001b[0m",
      "\u001b[0;31mNameError\u001b[0m                                 Traceback (most recent call last)",
      "\u001b[0;32m<ipython-input-20-42595ad968fe>\u001b[0m in \u001b[0;36m<module>\u001b[0;34m()\u001b[0m\n\u001b[1;32m      4\u001b[0m \u001b[0;34m\u001b[0m\u001b[0m\n\u001b[1;32m      5\u001b[0m \u001b[0;31m# 假設給 使用者操作定義的接口長這樣\u001b[0m\u001b[0;34m\u001b[0m\u001b[0;34m\u001b[0m\u001b[0m\n\u001b[0;32m----> 6\u001b[0;31m \u001b[0;32mclass\u001b[0m \u001b[0mUser\u001b[0m\u001b[0;34m(\u001b[0m\u001b[0mModel\u001b[0m\u001b[0;34m)\u001b[0m\u001b[0;34m:\u001b[0m\u001b[0;34m\u001b[0m\u001b[0m\n\u001b[0m\u001b[1;32m      7\u001b[0m     \u001b[0;31m# 定義class的屬性映射到列：\u001b[0m\u001b[0;34m\u001b[0m\u001b[0;34m\u001b[0m\u001b[0m\n\u001b[1;32m      8\u001b[0m     \u001b[0mid\u001b[0m \u001b[0;34m=\u001b[0m \u001b[0mIntegerField\u001b[0m\u001b[0;34m(\u001b[0m\u001b[0;34m'id'\u001b[0m\u001b[0;34m)\u001b[0m\u001b[0;34m\u001b[0m\u001b[0m\n",
      "\u001b[0;31mNameError\u001b[0m: name 'Model' is not defined"
     ]
    }
   ],
   "source": [
    "# metaclass 適合用在有可能操作修改 class 定義的情況，像是ORM\n",
    "# ORM全稱“Object Relational Mapping”，即對象-關係映射，就是把關係數據庫的一行映射為一個對象，也就是一個類對應一個表，不用直接操作SQL語句。 \n",
    "# 要編寫一個ORM框架，所有的類都只能動態定義，因為只有使用者才能根據表的結構定義出對應的類來。\n",
    "\n",
    "# 先假設給 使用者操作定義的接口長這樣\n",
    "class User(Model):\n",
    "    # 定義class的屬性映射到列：\n",
    "    id = IntegerField('id')\n",
    "    name = StringField('username')\n",
    "    email = StringField('email')\n",
    "    password = StringField('password')\n",
    "\n",
    "# # 然後創建一個 instance：\n",
    "u = User(id=12345, name='Michael', email='test@orm.org', password='my-pwd')\n",
    "# # 寫入db：\n",
    "u.save()\n",
    "\n",
    "# 其中，父類Model和屬性類型StringField、IntegerField是由ORM框架提供的，剩下的魔術方法比如save()全部由metaclass自動完成。\n",
    "# 雖然metaclass的編寫會比較複雜，但ORM的使用者用起來卻異常簡單。"
   ]
  },
  {
   "cell_type": "code",
   "execution_count": 30,
   "metadata": {},
   "outputs": [
    {
     "name": "stdout",
     "output_type": "stream",
     "text": [
      "Found model: User\n",
      "Found mapping: id ==> <IntegerField:id>\n",
      "Found mapping: name ==> <StringField:username>\n",
      "Found mapping: email ==> <StringField:email>\n",
      "Found mapping: password ==> <StringField:password>\n",
      "SQL: insert into User (id,username,email,password) values (?,?,?,?)\n",
      "ARGS: [12345, 'Michael', 'test@orm.org', 'my-pwd']\n"
     ]
    }
   ],
   "source": [
    "# 首先來定義Field類，它負責保存數據庫表的字段名和字段類型\n",
    "class Field(object):\n",
    "\n",
    "    def __init__(self, name, column_type):\n",
    "        self.name = name\n",
    "        self.column_type = column_type\n",
    "\n",
    "    def __str__(self):\n",
    "        return '<%s:%s>' % (self.__class__.__name__, self.name)\n",
    "    \n",
    "class StringField(Field):\n",
    "\n",
    "    def __init__(self, name):\n",
    "        super(StringField, self).__init__(name, 'varchar(100)')\n",
    "\n",
    "class IntegerField(Field):\n",
    "\n",
    "    def __init__(self, name):\n",
    "        super(IntegerField, self).__init__(name, 'bigint')\n",
    "        \n",
    "class ModelMetaclass(type):\n",
    "\n",
    "    def __new__(cls, name, bases, attrs):\n",
    "        if name=='Model':\n",
    "            return type.__new__(cls, name, bases, attrs)\n",
    "        print('Found model: %s' % name)\n",
    "        mappings = dict()\n",
    "        for k, v in attrs.items():\n",
    "            if isinstance(v, Field):\n",
    "                print('Found mapping: %s ==> %s' % (k, v))\n",
    "                mappings[k] = v\n",
    "        for k in mappings.keys():\n",
    "            attrs.pop(k)\n",
    "        attrs['__mappings__'] = mappings # 保存属性和列的映射关系\n",
    "        attrs['__table__'] = name # 假设表名和类名一致\n",
    "        return type.__new__(cls, name, bases, attrs)\n",
    "    \n",
    "class Model(dict, metaclass=ModelMetaclass):\n",
    "\n",
    "    def __init__(self, **kw):\n",
    "        super(Model, self).__init__(**kw)\n",
    "\n",
    "    def __getattr__(self, key):\n",
    "        try:\n",
    "            return self[key]\n",
    "        except KeyError:\n",
    "            raise AttributeError(r\"'Model' object has no attribute '%s'\" % key)\n",
    "\n",
    "    def __setattr__(self, key, value):\n",
    "        self[key] = value\n",
    "\n",
    "    def save(self):\n",
    "        fields = []\n",
    "        params = []\n",
    "        args = []\n",
    "        for k, v in self.__mappings__.items():\n",
    "            fields.append(v.name)\n",
    "            params.append('?')\n",
    "            args.append(getattr(self, k, None))\n",
    "        sql = 'insert into %s (%s) values (%s)' % (self.__table__, ','.join(fields), ','.join(params))\n",
    "        print('SQL: %s' % sql)\n",
    "        print('ARGS: %s' % str(args))\n",
    "        \n",
    "class User(Model):\n",
    "    id = IntegerField('id')\n",
    "    name = StringField('username')\n",
    "    email = StringField('email')\n",
    "    password = StringField('password')\n",
    "    \n",
    "u = User(id=12345, name='Michael', email='test@orm.org', password='my-pwd')\n",
    "u.save()"
   ]
  },
  {
   "cell_type": "markdown",
   "metadata": {},
   "source": [
    "当用户定义一个class User(Model)时，Python解释器首先在当前类User的定义中查找metaclass，如果没有找到，就继续在父类Model中查找metaclass，找到了，就使用Model中定义的metaclass的ModelMetaclass来创建User类，也就是说，metaclass可以隐式地继承到子类，但子类自己却感觉不到。\n",
    "\n",
    "在ModelMetaclass中，一共做了几件事情：\n",
    "\n",
    "排除掉对Model类的修改；\n",
    "\n",
    "在当前类（比如User）中查找定义的类的所有属性，如果找到一个Field属性，就把它保存到一个__mappings__的dict中，同时从类属性中删除该Field属性，否则，容易造成运行时错误（实例的属性会遮盖类的同名属性）；\n",
    "\n",
    "把表名保存到__table__中，这里简化为表名默认为类名。\n",
    "\n",
    "在Model类中，就可以定义各种操作数据库的方法，比如save()，delete()，find()，update等等。\n",
    "\n",
    "我们实现了save()方法，把一个实例保存到数据库中。因为有表名，属性到字段的映射和属性值的集合，就可以构造出INSERT语句。"
   ]
  },
  {
   "cell_type": "code",
   "execution_count": 58,
   "metadata": {},
   "outputs": [
    {
     "name": "stdout",
     "output_type": "stream",
     "text": [
      "abc\n",
      "123\n",
      "<class '__main__.TestMetaClass'>\n",
      "B\n",
      "(<class 'object'>,)\n",
      "{'__module__': '__main__', '__qualname__': 'B', 'a': 123, 'b': 'bcd', '__init__': <function B.__init__ at 0x10397b6a8>}\n",
      "TTT\n",
      "<class '__main__.TestMetaClass'>\n",
      "Test\n",
      "(<class '__main__.A'>, <class '__main__.B'>)\n",
      "{'__module__': '__main__', '__qualname__': 'Test', 'b': 'bbb', '__init__': <function Test.__init__ at 0x101a44e18>, 'get': <function Test.get at 0x1038c07b8>}\n",
      "abc init\n",
      "TEST\n"
     ]
    }
   ],
   "source": [
    "class TestMetaClass(type):\n",
    "    def __new__(cls, name, bases, attrs):\n",
    "        print(cls)\n",
    "        print(name)\n",
    "        print(bases)\n",
    "        print(attrs)\n",
    "        return type.__new__(cls, name, bases, attrs)\n",
    "    \n",
    "class A(object):\n",
    "    a = 'abc'\n",
    "    print(a)\n",
    "    def __init__(self):\n",
    "        print(self.a, 'init')\n",
    "        print('AAA')\n",
    "    \n",
    "class B(object, metaclass=TestMetaClass):\n",
    "    a = 123\n",
    "    b = 'bcd'\n",
    "    print(a)\n",
    "    def __init__(self):\n",
    "        print(self.a, 'init')\n",
    "        print('BBB')\n",
    "        \n",
    "class Test(A, B):\n",
    "    b = 'bbb'\n",
    "    print('TTT')\n",
    "    \n",
    "    def __init__(self):\n",
    "        print(self.a, 'init')\n",
    "        print('TEST')\n",
    "        \n",
    "    def get(self):\n",
    "        return self.a\n",
    "    \n",
    "a = Test()\n",
    "# print(a.a)\n",
    "# print(a.b)\n",
    "# print(a.get())"
   ]
  },
  {
   "cell_type": "code",
   "execution_count": null,
   "metadata": {},
   "outputs": [],
   "source": []
  }
 ],
 "metadata": {
  "kernelspec": {
   "display_name": "Python 3",
   "language": "python",
   "name": "python3"
  },
  "language_info": {
   "codemirror_mode": {
    "name": "ipython",
    "version": 3
   },
   "file_extension": ".py",
   "mimetype": "text/x-python",
   "name": "python",
   "nbconvert_exporter": "python",
   "pygments_lexer": "ipython3",
   "version": "3.6.4"
  }
 },
 "nbformat": 4,
 "nbformat_minor": 2
}
