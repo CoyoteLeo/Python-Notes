{
 "cells": [
  {
   "cell_type": "code",
   "execution_count": 1,
   "metadata": {},
   "outputs": [
    {
     "name": "stdout",
     "output_type": "stream",
     "text": [
      "d3adb00a2e1e15fb17beeb66f723fdbb\n"
     ]
    }
   ],
   "source": [
    "import hashlib\n",
    "\n",
    "\n",
    "# MD5是最常見的摘要算法，速度很快，生成結果是固定的128 bit字節，通常用一個32位的16進製字符串表示。\n",
    "md5 = hashlib.md5()\n",
    "md5.update('(」・ω・)」うー！(／・ω・)／にゃー！'.encode('utf-8'))\n",
    "print(md5.hexdigest())"
   ]
  },
  {
   "cell_type": "code",
   "execution_count": 2,
   "metadata": {},
   "outputs": [
    {
     "name": "stdout",
     "output_type": "stream",
     "text": [
      "d3adb00a2e1e15fb17beeb66f723fdbb\n"
     ]
    }
   ],
   "source": [
    "# 可以分段\n",
    "md5 = hashlib.md5()\n",
    "md5.update('(」・ω・)」うー！'.encode('utf-8'))\n",
    "md5.update('(／・ω・)／にゃー！'.encode('utf-8'))\n",
    "print(md5.hexdigest())"
   ]
  },
  {
   "cell_type": "code",
   "execution_count": 3,
   "metadata": {},
   "outputs": [
    {
     "name": "stdout",
     "output_type": "stream",
     "text": [
      "ae4b2acf0588ff01c5c63de6b7fa959a7b9458d9\n"
     ]
    }
   ],
   "source": [
    "# SHA1的結果是160 bit字節，通常用一個40位的16進製字符串表示。\n",
    "sha1 = hashlib.sha1()\n",
    "sha1.update('ლ(・´ｪ`・ლ)'.encode('utf-8'))\n",
    "sha1.update('ε≡ﾍ( ´∀`)ﾉ'.encode('utf-8'))\n",
    "print(sha1.hexdigest())"
   ]
  },
  {
   "cell_type": "code",
   "execution_count": 5,
   "metadata": {},
   "outputs": [
    {
     "name": "stdout",
     "output_type": "stream",
     "text": [
      "b'YmluYXJ5AHN0cmluZw=='\n",
      "b'binary\\x00string'\n"
     ]
    }
   ],
   "source": [
    "import base64\n",
    "\n",
    "# Base64是一種用64個字符來表示任意二進制數據的方法。\n",
    "encode = base64.b64encode(b'binary\\x00string')\n",
    "\n",
    "decode = base64.b64decode(b'YmluYXJ5AHN0cmluZw==')\n",
    "print(encode)\n",
    "print(decode)"
   ]
  },
  {
   "cell_type": "code",
   "execution_count": 6,
   "metadata": {},
   "outputs": [
    {
     "name": "stdout",
     "output_type": "stream",
     "text": [
      "b'abcd++//'\n",
      "b'abcd--__'\n",
      "b'i\\xb7\\x1d\\xfb\\xef\\xff'\n"
     ]
    }
   ],
   "source": [
    "# 由於標準的Base64編碼後可能出現字符+和/，在URL中就不能直接作為參數，所以又有一種\"url safe\"的base64編碼，其實就是把字符+和/分別變成-和_\n",
    "\n",
    "print(base64.b64encode(b'i\\xb7\\x1d\\xfb\\xef\\xff'))\n",
    "\n",
    "print(base64.urlsafe_b64encode(b'i\\xb7\\x1d\\xfb\\xef\\xff'))\n",
    "\n",
    "print(base64.urlsafe_b64decode('abcd--__'))\n"
   ]
  },
  {
   "cell_type": "code",
   "execution_count": null,
   "metadata": {},
   "outputs": [],
   "source": []
  }
 ],
 "metadata": {
  "kernelspec": {
   "display_name": "Python 3",
   "language": "python",
   "name": "python3"
  },
  "language_info": {
   "codemirror_mode": {
    "name": "ipython",
    "version": 3
   },
   "file_extension": ".py",
   "mimetype": "text/x-python",
   "name": "python",
   "nbconvert_exporter": "python",
   "pygments_lexer": "ipython3",
   "version": "3.6.4"
  }
 },
 "nbformat": 4,
 "nbformat_minor": 2
}
