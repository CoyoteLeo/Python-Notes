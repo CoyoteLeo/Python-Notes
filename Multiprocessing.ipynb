{
 "cells": [
  {
   "cell_type": "code",
   "execution_count": 1,
   "metadata": {},
   "outputs": [
    {
     "name": "stdout",
     "output_type": "stream",
     "text": [
      "aaa\n"
     ]
    }
   ],
   "source": [
    "#jupyter如果無法用，去terminal試\n",
    "\n",
    "import multiprocessing as mp\n",
    "#import threading as td\n",
    "\n",
    "def job(a,b):\n",
    "    print('aaa')\n",
    "\n",
    "if __name__=='__main__': #要加這個\n",
    "    #t1 = td.Thread(target=job, args=(a,b))  #加thread\n",
    "    p1 = mp.Process(target=job, args=(1,2)) #加Process,用法跟thread一樣\n",
    "    p1.start()\n",
    "    p1.join()\n"
   ]
  },
  {
   "cell_type": "code",
   "execution_count": 3,
   "metadata": {},
   "outputs": [
    {
     "name": "stdout",
     "output_type": "stream",
     "text": [
      "249833583000\n",
      "249833583000\n",
      "499667166000\n"
     ]
    }
   ],
   "source": [
    "import multiprocessing as mp\n",
    "\n",
    "def job(q):\n",
    "    res = 0\n",
    "    for i in range(1000):\n",
    "        res += i+i**2+i**3\n",
    "    q.put(res) # queue\n",
    "\n",
    "if __name__ == '__main__':\n",
    "    q = mp.Queue()  # 定義儲存隊列, 跟thread一樣, Process無法返回數值\n",
    "    p1 = mp.Process(target=job, args=(q,)) #args(q,) 逗點一定要\n",
    "    p2 = mp.Process(target=job, args=(q,))\n",
    "    p1.start()\n",
    "    p2.start()\n",
    "    p1.join()\n",
    "    p2.join()\n",
    "    res1 = q.get()\n",
    "    res2 = q.get()\n",
    "    print(res1)\n",
    "    print(res2)\n",
    "    print(res1+res2)"
   ]
  },
  {
   "cell_type": "code",
   "execution_count": 4,
   "metadata": {},
   "outputs": [
    {
     "name": "stdout",
     "output_type": "stream",
     "text": [
      "normal: 499999666667166666000000\n",
      "normal time: 1.641489028930664\n",
      "multithread: 499999666667166666000000\n",
      "multithread time: 1.6848890781402588\n",
      "multicore: 499999666667166666000000\n",
      "multicore time: 0.7779569625854492\n"
     ]
    }
   ],
   "source": [
    "#一般與多進程與多核心運算比較\n",
    "import multiprocessing as mp\n",
    "import threading as td\n",
    "import time\n",
    "\n",
    "def job(q):\n",
    "    res = 0\n",
    "    for i in range(1000000):\n",
    "        res += i+i**2+i**3\n",
    "    q.put(res) # queue\n",
    "\n",
    "def multicore():\n",
    "    q = mp.Queue()\n",
    "    p1 = mp.Process(target=job, args=(q,))\n",
    "    p2 = mp.Process(target=job, args=(q,))\n",
    "    p1.start()\n",
    "    p2.start()\n",
    "    p1.join()\n",
    "    p2.join()\n",
    "    res1 = q.get()\n",
    "    res2 = q.get()\n",
    "    print('multicore:' , res1+res2)\n",
    "\n",
    "def normal():\n",
    "    res = 0\n",
    "    for _ in range(2):\n",
    "        for i in range(1000000):\n",
    "            res += i+i**2+i**3\n",
    "    print('normal:', res)\n",
    "\n",
    "def multithread():\n",
    "    q = mp.Queue()\n",
    "    t1 = td.Thread(target=job, args=(q,))\n",
    "    t2 = td.Thread(target=job, args=(q,))\n",
    "    t1.start()\n",
    "    t2.start()\n",
    "    t1.join()\n",
    "    t2.join()\n",
    "    res1 = q.get()\n",
    "    res2 = q.get()\n",
    "    print('multithread:', res1+res2)\n",
    "\n",
    "if __name__ == '__main__':\n",
    "    st = time.time()\n",
    "    normal()\n",
    "    st1= time.time()\n",
    "    print('normal time:', st1 - st)\n",
    "    multithread()\n",
    "    st2 = time.time()\n",
    "    print('multithread time:', st2 - st1)\n",
    "    multicore()\n",
    "    print('multicore time:', time.time()-st2)"
   ]
  },
  {
   "cell_type": "code",
   "execution_count": 8,
   "metadata": {},
   "outputs": [
    {
     "name": "stdout",
     "output_type": "stream",
     "text": [
      "[0, 1, 4, 9, 16, 25, 36, 49, 64, 81]\n",
      "4\n",
      "[0, 1, 4, 9, 16, 25, 36, 49, 64, 81]\n"
     ]
    }
   ],
   "source": [
    "# 進程池, 不用定義Process, 直接把job丟進ProcessPool, 讓python幫你處理分配multiprocessing\n",
    "# function可以return值\n",
    "import multiprocessing as mp\n",
    "\n",
    "def job(x):\n",
    "    return x*x\n",
    "\n",
    "def multicore():\n",
    "#     pool = mp.Pool()  # 默認拿所有核來當pool, 也可以指定只拿幾個核.\n",
    "    pool = mp.Pool(processes=2) #上面job()可以有return\n",
    "    \n",
    "    res = pool.map(job, range(10))  # 用法一 map(), map所有\n",
    "    print(res)\n",
    "    \n",
    "    res = pool.apply_async(job, (2,))  # 用法二 apply_async(), 指輸入一個值(但是要可以迭代...), 多值會報錯\n",
    "    print(res.get())\n",
    "    \n",
    "    multi_res =[pool.apply_async(job, (i,)) for i in range(10)] # apply_async() + 迭代器使用\n",
    "    print([res.get() for res in multi_res])\n",
    "\n",
    "if __name__ == '__main__':\n",
    "    multicore()"
   ]
  },
  {
   "cell_type": "markdown",
   "metadata": {
    "collapsed": true
   },
   "source": [
    "# 全局變量\n",
    "\n",
    "全局變量無法傳給各個Core,故無法共享戶傳\n",
    "\n",
    "所以要共享記憶體才可以給不同core用\n",
    "\n",
    "用法:\n",
    "```python\n",
    "import multiprocessing as mp\n",
    "value = mp.Value('d', 1) #'d'為資料型態\n",
    "array = mp.Arrar('i', [1,2,3]) #'i'為資料型態, 但array只能一維\n",
    "```\n",
    "\n",
    "| Type code | C Type             | Python Type       | Minimum size in bytes |\n",
    "| --------- | ------------------ | ----------------- | --------------------- |\n",
    "| `'b'`     | signed char        | int               | 1                     |\n",
    "| `'B'`     | unsigned char      | int               | 1                     |\n",
    "| `'u'`     | Py_UNICODE         | Unicode character | 2                     |\n",
    "| `'h'`     | signed short       | int               | 2                     |\n",
    "| `'H'`     | unsigned short     | int               | 2                     |\n",
    "| `'i'`     | signed int         | int               | 2                     |\n",
    "| `'I'`     | unsigned int       | int               | 2                     |\n",
    "| `'l'`     | signed long        | int               | 4                     |\n",
    "| `'L'`     | unsigned long      | int               | 4                     |\n",
    "| `'q'`     | signed long long   | int               | 8                     |\n",
    "| `'Q'`     | unsigned long long | int               | 8                     |\n",
    "| `'f'`     | float              | float             | 4                     |\n",
    "| `'d'`     | double             | float             | 8                     |"
   ]
  },
  {
   "cell_type": "code",
   "execution_count": 17,
   "metadata": {},
   "outputs": [
    {
     "name": "stdout",
     "output_type": "stream",
     "text": [
      "1\n",
      "4\n",
      "5\n",
      "8\n",
      "9\n",
      "12\n",
      "13\n",
      "16\n",
      "17\n",
      "20\n"
     ]
    }
   ],
   "source": [
    "import multiprocessing as mp\n",
    "import time\n",
    "\n",
    "def job(v, num):\n",
    "    for _ in range(5):\n",
    "        time.sleep(1)\n",
    "        v.value += num # v.value 拿出共享變數的值\n",
    "        print(v.value, end=\"\\n\")\n",
    "        \n",
    "def multicore():\n",
    "    v = mp.Value('i', 0) # 定義共享變數\n",
    "    p1 = mp.Process(target=job, args=(v,1))\n",
    "    p2 = mp.Process(target=job, args=(v,3)) # 設定不同的number看如何搶奪內存\n",
    "    p1.start()\n",
    "    p2.start()\n",
    "    p1.join()\n",
    "    p2.join()\n",
    "    \n",
    "if __name__ == '__main__':\n",
    "    multicore()"
   ]
  },
  {
   "cell_type": "code",
   "execution_count": 14,
   "metadata": {},
   "outputs": [
    {
     "name": "stdout",
     "output_type": "stream",
     "text": [
      "1\n",
      "2\n",
      "3\n",
      "4\n",
      "5\n",
      "6\n",
      "7\n",
      "8\n",
      "9\n",
      "10\n",
      "13\n",
      "16\n",
      "19\n",
      "22\n",
      "25\n",
      "28\n",
      "31\n",
      "34\n",
      "37\n",
      "40\n"
     ]
    }
   ],
   "source": [
    "# 進程鎖\n",
    "import multiprocessing as mp\n",
    "import time\n",
    "\n",
    "def job(v, num, l):\n",
    "    l.acquire()  # 鎖住\n",
    "    for _ in range(10):\n",
    "        time.sleep(0.1)\n",
    "        v.value += num  # 拿取共享變數得值\n",
    "        print(v.value)\n",
    "    l.release()  # 釋放\n",
    "\n",
    "def multicore():\n",
    "    l = mp.Lock()  # 定義進程鎖\n",
    "    v = mp.Value('i', 0)\n",
    "    p1 = mp.Process(target=job, args=(v, 1, l))  # 要把進程鎖傳入\n",
    "    p2 = mp.Process(target=job, args=(v, 3, l))\n",
    "    p1.start()\n",
    "    p2.start()\n",
    "    p1.join()\n",
    "    p2.join()\n",
    "\n",
    "if __name__ == '__main__':\n",
    "    multicore()\n"
   ]
  },
  {
   "cell_type": "code",
   "execution_count": null,
   "metadata": {},
   "outputs": [],
   "source": []
  }
 ],
 "metadata": {
  "kernelspec": {
   "display_name": "Python 3",
   "language": "python",
   "name": "python3"
  },
  "language_info": {
   "codemirror_mode": {
    "name": "ipython",
    "version": 3
   },
   "file_extension": ".py",
   "mimetype": "text/x-python",
   "name": "python",
   "nbconvert_exporter": "python",
   "pygments_lexer": "ipython3",
   "version": "3.6.4"
  }
 },
 "nbformat": 4,
 "nbformat_minor": 2
}
