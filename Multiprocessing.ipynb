{
 "cells": [
  {
   "cell_type": "code",
   "execution_count": 1,
   "metadata": {
    "collapsed": false
   },
   "outputs": [],
   "source": [
    "#jupyter無法用@@\n",
    "\n",
    "import multiprocessing as mp\n",
    "#import threading as td\n",
    "\n",
    "def job(a,b):\n",
    "    print('aaa')\n",
    "\n",
    "if __name__=='__main__': #要加這個\n",
    "    #t1 = td.Thread(target=job, args=(a,b))  #加thread\n",
    "    p1 = mp.Process(target=job, args=(1,2)) #加Process,用法跟thread一樣\n",
    "    p1.start()\n",
    "    p1.join()\n"
   ]
  },
  {
   "cell_type": "code",
   "execution_count": null,
   "metadata": {
    "collapsed": true
   },
   "outputs": [],
   "source": [
    "import multiprocessing as mp\n",
    "\n",
    "def job(q):\n",
    "    res = 0\n",
    "    for i in range(1000):\n",
    "        res += i+i**2+i**3\n",
    "    q.put(res) # queue\n",
    "\n",
    "if __name__ == '__main__':\n",
    "    q = mp.Queue()\n",
    "    p1 = mp.Process(target=job, args=(q,)) #args(q,) 逗點一定要\n",
    "    p2 = mp.Process(target=job, args=(q,))\n",
    "    p1.start()\n",
    "    p2.start()\n",
    "    p1.join()\n",
    "    p2.join()\n",
    "    res1 = q.get()\n",
    "    res2 = q.get()\n",
    "    print(res1+res2)"
   ]
  },
  {
   "cell_type": "code",
   "execution_count": null,
   "metadata": {
    "collapsed": false
   },
   "outputs": [
    {
     "name": "stdout",
     "output_type": "stream",
     "text": [
      "normal: 499999666667166666000000\n",
      "normal time: 1.9009251594543457\n",
      "multithread: 499999666667166666000000\n",
      "multithread time: 2.130061388015747\n"
     ]
    }
   ],
   "source": [
    "#一般與多進程與多核心運算比較\n",
    "import multiprocessing as mp\n",
    "import threading as td\n",
    "import time\n",
    "\n",
    "def job(q):\n",
    "    res = 0\n",
    "    for i in range(1000000):\n",
    "        res += i+i**2+i**3\n",
    "    q.put(res) # queue\n",
    "\n",
    "def multicore():\n",
    "    q = mp.Queue()\n",
    "    p1 = mp.Process(target=job, args=(q,))\n",
    "    p2 = mp.Process(target=job, args=(q,))\n",
    "    p1.start()\n",
    "    p2.start()\n",
    "    p1.join()\n",
    "    p2.join()\n",
    "    res1 = q.get()\n",
    "    res2 = q.get()\n",
    "    print('multicore:' , res1+res2)\n",
    "\n",
    "def normal():\n",
    "    res = 0\n",
    "    for _ in range(2):\n",
    "        for i in range(1000000):\n",
    "            res += i+i**2+i**3\n",
    "    print('normal:', res)\n",
    "\n",
    "def multithread():\n",
    "    q = mp.Queue()\n",
    "    t1 = td.Thread(target=job, args=(q,))\n",
    "    t2 = td.Thread(target=job, args=(q,))\n",
    "    t1.start()\n",
    "    t2.start()\n",
    "    t1.join()\n",
    "    t2.join()\n",
    "    res1 = q.get()\n",
    "    res2 = q.get()\n",
    "    print('multithread:', res1+res2)\n",
    "\n",
    "if __name__ == '__main__':\n",
    "    st = time.time()\n",
    "    normal()\n",
    "    st1= time.time()\n",
    "    print('normal time:', st1 - st)\n",
    "    multithread()\n",
    "    st2 = time.time()\n",
    "    print('multithread time:', st2 - st1)\n",
    "    multicore()\n",
    "    print('multicore time:', time.time()-st2)"
   ]
  },
  {
   "cell_type": "code",
   "execution_count": null,
   "metadata": {
    "collapsed": true
   },
   "outputs": [],
   "source": [
    "import multiprocessing as mp\n",
    "\n",
    "def job(x):\n",
    "    return x*x\n",
    "\n",
    "def multicore():\n",
    "    pool = mp.Pool(processes=2) #上面job()可以有return\n",
    "    res = pool.map(job, range(10))\n",
    "    print(res)\n",
    "    res = pool.apply_async(job, (2,))\n",
    "    print(res.get())\n",
    "    multi_res =[pool.apply_async(job, (i,)) for i in range(10)] #迭代器使用\n",
    "    print([res.get() for res in multi_res])\n",
    "\n",
    "if __name__ == '__main__':\n",
    "    multicore()"
   ]
  },
  {
   "cell_type": "code",
   "execution_count": 1,
   "metadata": {
    "collapsed": true
   },
   "outputs": [],
   "source": [
    "#全局變量無法傳給各個Core,故無法共享戶傳\n",
    "#所以要共享記憶體才可以給不同core用\n",
    "#用法 \n",
    "#import multiprocessing as mp\n",
    "#value = mp.Value('d', 1) #'d'為資料型態\n",
    "#array = mp.Arrar('i', [1,2,3]) #'i'為資料型態, 但array只能一維"
   ]
  },
  {
   "cell_type": "code",
   "execution_count": null,
   "metadata": {
    "collapsed": true
   },
   "outputs": [],
   "source": [
    "import multiprocessing as mp\n",
    "import time\n",
    "\n",
    "def job(v, num, l):\n",
    "    l.acquire()\n",
    "    for _ in range(10):\n",
    "        time.sleep(0.1)\n",
    "        v.value += num\n",
    "        print(v.value)\n",
    "    l.release()\n",
    "\n",
    "def multicore():\n",
    "    l = mp.Lock()\n",
    "    v = mp.Value('i', 0)\n",
    "    p1 = mp.Process(target=job, args=(v, 1, l))\n",
    "    p2 = mp.Process(target=job, args=(v, 3, l))\n",
    "    p1.start()\n",
    "    p2.start()\n",
    "    p1.join()\n",
    "    p2.join()\n",
    "\n",
    "if __name__ == '__main__':\n",
    "    multicore()\n"
   ]
  }
 ],
 "metadata": {
  "kernelspec": {
   "display_name": "Python 3",
   "language": "python",
   "name": "python3"
  },
  "language_info": {
   "codemirror_mode": {
    "name": "ipython",
    "version": 3
   },
   "file_extension": ".py",
   "mimetype": "text/x-python",
   "name": "python",
   "nbconvert_exporter": "python",
   "pygments_lexer": "ipython3",
   "version": "3.6.0"
  }
 },
 "nbformat": 4,
 "nbformat_minor": 2
}
