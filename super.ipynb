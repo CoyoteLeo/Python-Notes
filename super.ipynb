{
 "cells": [
  {
   "cell_type": "markdown",
   "metadata": {},
   "source": [
    "# python super()\n",
    "一想到 `super()` 就想到可以調用父類的方法嗎？\n",
    "\n",
    "來認識真正的 `super()` 吧！ "
   ]
  },
  {
   "cell_type": "code",
   "execution_count": 4,
   "metadata": {},
   "outputs": [
    {
     "name": "stdout",
     "output_type": "stream",
     "text": [
      "hello A\n",
      "hello world\n",
      "hello B\n",
      "hello world\n"
     ]
    },
    {
     "data": {
      "text/plain": [
       "<__main__.ChildB at 0x1032442e8>"
      ]
     },
     "execution_count": 4,
     "metadata": {},
     "output_type": "execute_result"
    }
   ],
   "source": [
    "# 如果只是調用 Parent class 的方法，這樣寫有什麼不一樣！？\n",
    "class Parent(object):\n",
    "    def __init__(self):\n",
    "        print('hello world')\n",
    "\n",
    "class ChildA(Parent):\n",
    "    def __init__(self):\n",
    "        print('hello A')\n",
    "        Parent.__init__(self)\n",
    "\n",
    "class ChildB(Parent):\n",
    "    def __init__(self):\n",
    "        print('hello B')\n",
    "        super().__init__()\n",
    "\n",
    "ChildA()\n",
    "ChildB()"
   ]
  },
  {
   "cell_type": "code",
   "execution_count": 6,
   "metadata": {},
   "outputs": [
    {
     "name": "stdout",
     "output_type": "stream",
     "text": [
      "User A\n",
      "hello A\n",
      "hello world\n",
      "----------\n",
      "User B\n",
      "hello B\n",
      "dependency\n",
      "hello world\n"
     ]
    },
    {
     "data": {
      "text/plain": [
       "<__main__.UserB at 0x103233208>"
      ]
     },
     "execution_count": 6,
     "metadata": {},
     "output_type": "execute_result"
    }
   ],
   "source": [
    "# 假設遇到多重繼承的情況\n",
    "class Dependency(Parent):\n",
    "    def __init__(self):\n",
    "        print(\"dependency\")\n",
    "        super().__init__()\n",
    "\n",
    "class UserA(ChildA, Dependency):\n",
    "    def __init__(self):\n",
    "        print(\"User A\")\n",
    "        super().__init__()\n",
    "        \n",
    "class UserB(ChildB, Dependency):\n",
    "    def __init__(self):\n",
    "        print(\"User B\")\n",
    "        super().__init__()\n",
    "        \n",
    "UserA()  # ChildA 沒有 super() Parent\n",
    "print('-'*10)\n",
    "UserB()  # ChildB 沒有 super() Parent"
   ]
  },
  {
   "cell_type": "markdown",
   "metadata": {},
   "source": [
    "# why UserA didn't print 'dependency'\n",
    "雖看在 ChildA, ChildB 時看起來很簡單，只是調用父類的方法，\n",
    "\n",
    "但或許應該說，是剛好 `super()` 剛好調用 Parent class，\n",
    "\n",
    "來看看 UserA 與 UserB 的打印流程：\n",
    "\n",
    "* UserA: UserA() -> ChildA() -> Parent()\n",
    "* UserB: UserB() -> ChildB() -> Dependency() -> Parent()\n",
    "\n",
    "很明顯的差別在 ChildA() 並沒有使用 `super()` 造成這個差別！\n",
    "\n",
    "其實 `super()` 跟調用父類並沒有實質上的關聯，\n",
    "\n",
    "所以 `super()` 到底做了什麼呢? 而又為什麼 UserB 的打印流程不是先打印 hello world 在打印 dependency 呢？"
   ]
  },
  {
   "cell_type": "code",
   "execution_count": 9,
   "metadata": {},
   "outputs": [
    {
     "name": "stdout",
     "output_type": "stream",
     "text": [
      "C in\n",
      "A in\n",
      "B in\n",
      "Base!!\n",
      "B out\n",
      "A out\n",
      "C out\n"
     ]
    },
    {
     "data": {
      "text/plain": [
       "<__main__.C at 0x10325e6d8>"
      ]
     },
     "execution_count": 9,
     "metadata": {},
     "output_type": "execute_result"
    }
   ],
   "source": [
    "# 詳細的看看調用流程\n",
    "\n",
    "class Base(object):\n",
    "    def __init__(self):\n",
    "        print('Base!!')\n",
    "\n",
    "class A(Base):\n",
    "    def __init__(self):\n",
    "        print('A in')\n",
    "        super().__init__()\n",
    "        print('A out')\n",
    "\n",
    "class B(Base):\n",
    "    def __init__(self):\n",
    "        print('B in')\n",
    "        super().__init__()\n",
    "        print('B out')\n",
    "\n",
    "class C(A, B):\n",
    "    def __init__(self):\n",
    "        print('C in')\n",
    "        super().__init__()\n",
    "        print('C out')\n",
    "\n",
    "C()"
   ]
  },
  {
   "cell_type": "markdown",
   "metadata": {},
   "source": [
    "## C 繼承了 A B，而 A B 都繼承了 Base\n",
    "打印流程:\n",
    "```\n",
    "C(in) -super()-> A(in) -super()-> B(in) -super()-> Base() -> B(out) -> A(out) -> C(out)\n",
    "```\n",
    "為什麼一路調用 super() 到了 A(in) 調用 super() 時，不是去調用 ***A()的父類Base()*** 而是轉而去調用 B() 呢？\n",
    "\n",
    "# MRO 列表\n",
    "\n",
    "原因就是在定義 class 時，python 會利用 ***方法解析顺序(Method Resolution Order, MRO)*** ，來計算繼承的 order，\n",
    "\n",
    "簡單的說，就是會在你繼承來繼承去的過程，給定一個長幼排序，可以利用 `mro()` 來獲得這個排序。\n",
    "\n",
    "也就是說一個 class 的 MRO 列表就是根據這個 class 的所有 Parents class 來排列出來的順序！\n",
    "\n",
    "而這個排列有幾個大方向:\n",
    "\n",
    "1. 子類永在父類前面\n",
    "2. 如果下一層父類有多個合理選擇，就選先遇到的那個\n",
    "2. 如果有多個父類，會根據 MRO 的順序做檢查"
   ]
  },
  {
   "cell_type": "code",
   "execution_count": 11,
   "metadata": {},
   "outputs": [
    {
     "data": {
      "text/plain": [
       "[__main__.C, __main__.A, __main__.B, __main__.Base, object]"
      ]
     },
     "execution_count": 11,
     "metadata": {},
     "output_type": "execute_result"
    }
   ],
   "source": [
    "C.mro()"
   ]
  },
  {
   "cell_type": "markdown",
   "metadata": {},
   "source": [
    "# super() 原理\n",
    "\n",
    "```python\n",
    "def super(cls, inst):\n",
    "    mro = inst.__class__.mro()\n",
    "    return mro[mro.index(cls) + 1]\n",
    "```\n",
    "cls 代表 class; inst 代表 instance，然後做了兩件事:\n",
    "\n",
    "1. 查詢這個 instance 的 MRO 列表\n",
    "2. 然後找到此 class 在列表中的 index，並且返回下一個 class\n",
    "\n",
    "於是我們回到上一個例子:\n",
    "\n",
    "C(in) 後 super() 為 A()\n",
    "\n",
    "A(in) 後 super() 為 B() ... 而不是所謂的父類 Base\n",
    "\n",
    "然後以此類推就會得到結果！\n"
   ]
  },
  {
   "cell_type": "code",
   "execution_count": null,
   "metadata": {},
   "outputs": [],
   "source": []
  }
 ],
 "metadata": {
  "kernelspec": {
   "display_name": "Python 3",
   "language": "python",
   "name": "python3"
  },
  "language_info": {
   "codemirror_mode": {
    "name": "ipython",
    "version": 3
   },
   "file_extension": ".py",
   "mimetype": "text/x-python",
   "name": "python",
   "nbconvert_exporter": "python",
   "pygments_lexer": "ipython3",
   "version": "3.6.4"
  }
 },
 "nbformat": 4,
 "nbformat_minor": 2
}
