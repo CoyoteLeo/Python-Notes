{
 "cells": [
  {
   "cell_type": "markdown",
   "metadata": {},
   "source": [
    "## make asyncio easeier"
   ]
  },
  {
   "cell_type": "code",
   "execution_count": 1,
   "metadata": {},
   "outputs": [],
   "source": [
    "import asyncio\n",
    "\n",
    "def wait_for(coro):\n",
    "    loop = asyncio.get_event_loop()\n",
    "    return loop.run_until_complete(coro)\n",
    "\n",
    "# result = wait_for(async_func())"
   ]
  },
  {
   "cell_type": "code",
   "execution_count": null,
   "metadata": {},
   "outputs": [],
   "source": [
    "# test\n",
    "import unittest\n",
    "\n",
    "def async_test():\n",
    "    def inner(*args, **kwargs):\n",
    "        return wait_for(func(*args, **kwargs))\n",
    "    return inner\n",
    "\n",
    "class AsyncTestCase(unittest.TestCase):\n",
    "    @async_test\n",
    "    async def test_async_method(self):\n",
    "        obj = Cls()\n",
    "        self.assertTrue(await obj.async_func())"
   ]
  },
  {
   "cell_type": "code",
   "execution_count": null,
   "metadata": {},
   "outputs": [],
   "source": [
    "def sync(async_func):\n",
    "    is_classmethod = False\n",
    "    if isinstance(async_func, classmethod):\n",
    "        async_func = async_func.__func__\n",
    "        is_classmethod = True\n",
    "    elif isinstance(async_func, staticmethod):\n",
    "        async_func = asyncio.coroutin(async_func)\n",
    "\n",
    "    @functools.wraps(async_func)\n",
    "    def _no_profile_sync(*args, **keargs):\n",
    "        return wait_for(async_func(*args, **kwargs))\n",
    "\n",
    "    if is_classmethod:\n",
    "        return classmethod(_no_profile_sync)\n",
    "    else:\n",
    "        return _no_profile_sync\n",
    "\n",
    "func = sync(async_func)"
   ]
  },
  {
   "cell_type": "code",
   "execution_count": 4,
   "metadata": {},
   "outputs": [],
   "source": [
    "async def identity(value):\n",
    "    return value\n",
    "\n",
    "async def run():\n",
    "    awaitables = [\n",
    "        f(),\n",
    "        g() if a is True else identity(None),\n",
    "        h() if a is True else identity(None)\n",
    "    ]\n",
    "    _, var1, var2 = await asyncio.gather(*awaitables)"
   ]
  },
  {
   "cell_type": "code",
   "execution_count": null,
   "metadata": {},
   "outputs": [],
   "source": []
  }
 ],
 "metadata": {
  "kernelspec": {
   "display_name": "Python 3",
   "language": "python",
   "name": "python3"
  },
  "language_info": {
   "codemirror_mode": {
    "name": "ipython",
    "version": 3
   },
   "file_extension": ".py",
   "mimetype": "text/x-python",
   "name": "python",
   "nbconvert_exporter": "python",
   "pygments_lexer": "ipython3",
   "version": "3.6.4"
  }
 },
 "nbformat": 4,
 "nbformat_minor": 2
}
