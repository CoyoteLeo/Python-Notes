{
 "cells": [
  {
   "cell_type": "code",
   "execution_count": 13,
   "metadata": {},
   "outputs": [
    {
     "name": "stdout",
     "output_type": "stream",
     "text": [
      "2018-05-15 22:33:40.257914\n",
      "1526394820.257914\n",
      "2018-05-15 22:33:40.257914\n",
      "2018-05-15 14:33:40.257914\n"
     ]
    }
   ],
   "source": [
    "# datetime 模塊底下的 class\n",
    "from datetime import datetime, date, time, timedelta, tzinfo, timezone\n",
    "\n",
    "now = datetime.now()\n",
    "print(now)\n",
    "\n",
    "# timestamp\n",
    "tsp = now.timestamp()\n",
    "print(tsp)\n",
    "# timestamp -> datetime\n",
    "print(datetime.fromtimestamp(tsp))  # localtime\n",
    "print(datetime.utcfromtimestamp(tsp))  # UTC"
   ]
  },
  {
   "cell_type": "code",
   "execution_count": 14,
   "metadata": {},
   "outputs": [
    {
     "name": "stdout",
     "output_type": "stream",
     "text": [
      "1992-01-06 18:47:35\n",
      "Mon, Jan 06 18:47\n"
     ]
    }
   ],
   "source": [
    "# str to datetime\n",
    "str_to_d = datetime.strptime('1992-1-6 18:47:35', '%Y-%m-%d %H:%M:%S')\n",
    "print(str_to_d)\n",
    "# datetime to str\n",
    "print(str_to_d.strftime('%a, %b %d %H:%M'))"
   ]
  },
  {
   "cell_type": "code",
   "execution_count": 15,
   "metadata": {},
   "outputs": [
    {
     "name": "stdout",
     "output_type": "stream",
     "text": [
      "2018-05-18 10:33:40.257914\n",
      "2018-05-15 22:21:40.257914\n"
     ]
    }
   ],
   "source": [
    "# datetime +-\n",
    "print(now + timedelta(days=2, hours=12))\n",
    "print(now - timedelta(minutes=12))"
   ]
  },
  {
   "cell_type": "code",
   "execution_count": 18,
   "metadata": {},
   "outputs": [
    {
     "name": "stdout",
     "output_type": "stream",
     "text": [
      "2018-05-15 22:38:30.669118 None\n",
      "2018-05-15 22:38:30.669118+08:00 UTC+08:00\n"
     ]
    }
   ],
   "source": [
    "# give datetime have attr timezone\n",
    "# datetime class have a attr 'tzinfo' default is None\n",
    "tz_utc_8 = timezone(timedelta(hours=8))\n",
    "now = datetime.now()\n",
    "print(now, now.tzinfo)\n",
    "new_now = now.replace(tzinfo=tz_utc_8)\n",
    "print(new_now, new_now.tzinfo)"
   ]
  },
  {
   "cell_type": "code",
   "execution_count": 26,
   "metadata": {},
   "outputs": [
    {
     "name": "stdout",
     "output_type": "stream",
     "text": [
      "2018-05-15 14:48:25.924069 None\n",
      "2018-05-15 22:48:25.924107 None\n",
      "2018-05-15 14:48:25.924069+00:00\n",
      "2018-05-15 22:48:25.924069+08:00\n",
      "True\n"
     ]
    }
   ],
   "source": [
    "# timezone conversion\n",
    "utc_now = datetime.utcnow()\n",
    "local_now = datetime.now()\n",
    "print(utc_now, utc_now.tzinfo)\n",
    "print(local_now, local_now.tzinfo)\n",
    "# utc_now will get utc time, but convert timezone need 'tzinfo'\n",
    "\n",
    "tz_utc_now = utc_now.replace(tzinfo=timezone.utc)\n",
    "print(tz_utc_now)\n",
    "# convert to different timezone\n",
    "taiwan_dt = tz_utc_now.astimezone(timezone(timedelta(hours=8)))\n",
    "print(taiwan_dt)\n",
    "print(taiwan_dt.date()==local_now.date())"
   ]
  },
  {
   "cell_type": "code",
   "execution_count": null,
   "metadata": {},
   "outputs": [],
   "source": []
  }
 ],
 "metadata": {
  "kernelspec": {
   "display_name": "Python 3",
   "language": "python",
   "name": "python3"
  },
  "language_info": {
   "codemirror_mode": {
    "name": "ipython",
    "version": 3
   },
   "file_extension": ".py",
   "mimetype": "text/x-python",
   "name": "python",
   "nbconvert_exporter": "python",
   "pygments_lexer": "ipython3",
   "version": "3.6.4"
  }
 },
 "nbformat": 4,
 "nbformat_minor": 2
}
