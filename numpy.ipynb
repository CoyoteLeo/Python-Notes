{
 "cells": [
  {
   "cell_type": "code",
   "execution_count": 2,
   "metadata": {
    "collapsed": false
   },
   "outputs": [
    {
     "name": "stdout",
     "output_type": "stream",
     "text": [
      "2\n",
      "(2, 3)\n",
      "6\n",
      "[[ 0.  0.  0.  0.  0.]\n",
      " [ 0.  0.  0.  0.  0.]\n",
      " [ 0.  0.  0.  0.  0.]]\n",
      "[[ 1.  1.  1.]\n",
      " [ 1.  1.  1.]]\n",
      "[0 1]\n",
      "[[ 0  1  2  3]\n",
      " [ 4  5  6  7]\n",
      " [ 8  9 10 11]]\n",
      "[  0.    2.5   5.    7.5  10. ]\n"
     ]
    }
   ],
   "source": [
    "import numpy as np \n",
    "\n",
    "array = np.array([[1,2,3],[2,3,5]])\n",
    "#print(array)\n",
    "print(array.ndim)\n",
    "print(array.shape)\n",
    "print(array.size)\n",
    "\n",
    "a = np.zeros((3,5))\n",
    "print(a)\n",
    "b = np.ones((2,3))\n",
    "print(b)\n",
    "c= np.arange((2))\n",
    "print(c)\n",
    "d = np.arange((12)).reshape((3,4))\n",
    "print(d)\n",
    "e = np.linspace(0,10,5)\n",
    "print(e)"
   ]
  },
  {
   "cell_type": "code",
   "execution_count": 3,
   "metadata": {
    "collapsed": false
   },
   "outputs": [
    {
     "name": "stdout",
     "output_type": "stream",
     "text": [
      "[10 20 30 40]\n",
      "[0 1 2 3]\n",
      "[10 19 28 37]\n",
      "[0 1 4 9]\n",
      "[-5.44021111  9.12945251 -9.88031624  7.4511316 ]\n",
      "[ True  True False False]\n",
      "[[1 2]\n",
      " [1 2]]\n",
      "[[0 1]\n",
      " [2 3]]\n",
      "[[0 2]\n",
      " [2 6]]\n",
      "[[4 7]\n",
      " [4 7]]\n",
      "[[4 7]\n",
      " [4 7]]\n",
      "[[ 0.40363218  0.5410176   0.31227273]\n",
      " [ 0.48380011  0.19787033  0.2923594 ]]\n",
      "2.23095234678 0.5410176022 0.197870325466 [ 0.88743229  0.73888793  0.60463213]\n"
     ]
    }
   ],
   "source": [
    "import numpy as np \n",
    "\n",
    "a = np.array([10,20,30,40])\n",
    "b = np.arange(4)\n",
    "c = a-b\n",
    "print(a)\n",
    "print(b)\n",
    "print(c)\n",
    "print(b**2)\n",
    "print(10*np.sin(a))\n",
    "print(b<2)\n",
    "\n",
    "d = np.array([[1,2],\n",
    "              [1,2]])\n",
    "e = np.arange(4).reshape((2,2))\n",
    "print(d)\n",
    "print(e)\n",
    "\n",
    "f = d * e\n",
    "f_dot = np.dot(d,e)\n",
    "f_dot_2 = d.dot(e)\n",
    "print(f)\n",
    "print(f_dot)\n",
    "print(f_dot_2)\n",
    "#隨機生成矩陣 值0-1\n",
    "g = np.random.random((2,3))\n",
    "print(g)\n",
    "#axis=0 維度零 求欄, axis=1維度一 求列\n",
    "print(np.sum(g), np.max(g), np.min(g), np.sum(g,axis=0))"
   ]
  },
  {
   "cell_type": "code",
   "execution_count": 2,
   "metadata": {
    "collapsed": false
   },
   "outputs": [
    {
     "name": "stdout",
     "output_type": "stream",
     "text": [
      "[[ 2  3  4  5]\n",
      " [ 6  7  8  9]\n",
      " [10 11 12 13]]\n",
      "0 11\n",
      "7.5 7.5\n",
      "7.5\n",
      "7.5\n",
      "[ 2  5  9 14 20 27 35 44 54 65 77 90]\n",
      "[[1 1 1]\n",
      " [1 1 1]\n",
      " [1 1 1]]\n",
      "(array([0, 0, 0, 0, 1, 1, 1, 1, 2, 2, 2, 2], dtype=int64), array([0, 1, 2, 3, 0, 1, 2, 3, 0, 1, 2, 3], dtype=int64))\n",
      "[[ 2  3  4  5]\n",
      " [ 6  7  8  9]\n",
      " [10 11 12 13]]\n",
      "[[ 2  6 10]\n",
      " [ 3  7 11]\n",
      " [ 4  8 12]\n",
      " [ 5  9 13]]\n",
      "[[ 2  6 10]\n",
      " [ 3  7 11]\n",
      " [ 4  8 12]\n",
      " [ 5  9 13]]\n",
      "[[5 5 5 5]\n",
      " [6 7 8 9]\n",
      " [9 9 9 9]]\n"
     ]
    }
   ],
   "source": [
    "import numpy as np \n",
    "a = np.arange(2,14).reshape(3,4)\n",
    "print(a)\n",
    "#最大或嘴小值的索引值\n",
    "print(np.argmin(a),np.argmax(a))\n",
    "#平均數\n",
    "print(np.mean(a), np.average(a))\n",
    "print(a.mean())\n",
    "#中位數\n",
    "print(np.median(a))\n",
    "#項次累加\n",
    "print(np.cumsum(a))\n",
    "print(np.diff(a)) #差值矩陣\n",
    "print(np.nonzero(a))\n",
    "print(np.sort(a))\n",
    "#轉至矩陣\n",
    "print(np.transpose(a))\n",
    "print(a.T)\n",
    "#以上或以下的值換成上下限,其餘保留原數值\n",
    "print(np.clip(a,5,9))"
   ]
  },
  {
   "cell_type": "code",
   "execution_count": 5,
   "metadata": {
    "collapsed": false
   },
   "outputs": [
    {
     "name": "stdout",
     "output_type": "stream",
     "text": [
      "[ 3  4  5  6  7  8  9 10 11 12 13 14]\n",
      "6\n",
      "[[ 3  4  5  6]\n",
      " [ 7  8  9 10]\n",
      " [11 12 13 14]]\n",
      "[11 12 13 14]\n",
      "14 14\n",
      "[ 7  8  9 10] [5 9]\n",
      "\n",
      "[[ 3  4  5  6]\n",
      " [ 7  8  9 10]\n",
      " [11 12 13 14]]\n",
      "[3 4 5 6]\n",
      "[ 7  8  9 10]\n",
      "[11 12 13 14]\n",
      "[ 3  7 11]\n",
      "[ 4  8 12]\n",
      "[ 5  9 13]\n",
      "[ 6 10 14]\n",
      "[ 3  4  5  6  7  8  9 10 11 12 13 14]\n",
      "3\n",
      "4\n",
      "5\n",
      "6\n",
      "7\n",
      "8\n",
      "9\n",
      "10\n",
      "11\n",
      "12\n",
      "13\n",
      "14\n"
     ]
    }
   ],
   "source": [
    "import numpy as np \n",
    "\n",
    "a = np.arange(3,15)\n",
    "print(a)\n",
    "print(a[3])\n",
    "\n",
    "b = np.arange(3,15).reshape(3,4)\n",
    "print(b)\n",
    "print(b[2])\n",
    "print(b[2,3],b[2][3])\n",
    "print(b[1,:],b[0:2,2])\n",
    "\n",
    "print()\n",
    "\n",
    "print(b)\n",
    "for row in b:\n",
    "    print(row)\n",
    "\n",
    "for col in b.T:\n",
    "    print(col)\n",
    "    \n",
    "print(a.flatten())\n",
    "for item in a.flat:\n",
    "    print(item)"
   ]
  },
  {
   "cell_type": "code",
   "execution_count": 6,
   "metadata": {
    "collapsed": false
   },
   "outputs": [
    {
     "name": "stdout",
     "output_type": "stream",
     "text": [
      "[[1 1 1]\n",
      " [2 2 2]]\n",
      "[1 1 1 2 2 2]\n",
      "\n",
      "[[1]\n",
      " [1]\n",
      " [1]]\n",
      "[[1 1 1]]\n",
      "(3,) (3, 1) (1, 3)\n",
      "\n",
      "[[1 2]\n",
      " [1 2]\n",
      " [1 2]]\n",
      "[[1 1 2]\n",
      " [1 1 2]\n",
      " [1 1 2]]\n",
      "[[1]\n",
      " [1]\n",
      " [1]\n",
      " [1]\n",
      " [1]\n",
      " [1]\n",
      " [2]\n",
      " [2]\n",
      " [2]]\n",
      "[[1 1 2]\n",
      " [1 1 2]\n",
      " [1 1 2]]\n"
     ]
    }
   ],
   "source": [
    "import numpy as np\n",
    "\n",
    "a = np.array([1,1,1])\n",
    "b = np.array([2,2,2])\n",
    "print(np.vstack((a,b)))\n",
    "print(np.hstack((a,b)))\n",
    "print()\n",
    "#增加維度\n",
    "print(a[:,np.newaxis])\n",
    "print(a[np.newaxis,:])\n",
    "print(a.shape, a[:,np.newaxis].shape, a[np.newaxis,:].shape)\n",
    "print()\n",
    "c = a[:,np.newaxis]\n",
    "d = b[:,np.newaxis]\n",
    "print(np.hstack((c,d)))\n",
    "print(np.hstack((c,c,d)))\n",
    "print(np.concatenate((c,c,d), axis=0))\n",
    "print(np.concatenate((c,c,d), axis=1))"
   ]
  },
  {
   "cell_type": "code",
   "execution_count": 7,
   "metadata": {
    "collapsed": false
   },
   "outputs": [
    {
     "name": "stdout",
     "output_type": "stream",
     "text": [
      "[[ 0  1  2  3]\n",
      " [ 4  5  6  7]\n",
      " [ 8  9 10 11]]\n",
      "[array([[0, 1],\n",
      "       [4, 5],\n",
      "       [8, 9]]), array([[ 2,  3],\n",
      "       [ 6,  7],\n",
      "       [10, 11]])]\n",
      "[array([[0, 1, 2, 3]]), array([[4, 5, 6, 7]]), array([[ 8,  9, 10, 11]])]\n",
      "[array([[0, 1],\n",
      "       [4, 5],\n",
      "       [8, 9]]), array([[ 2],\n",
      "       [ 6],\n",
      "       [10]]), array([[ 3],\n",
      "       [ 7],\n",
      "       [11]])]\n",
      "[array([[0, 1, 2, 3]]), array([[4, 5, 6, 7]]), array([[ 8,  9, 10, 11]])]\n",
      "[array([[0, 1],\n",
      "       [4, 5],\n",
      "       [8, 9]]), array([[ 2,  3],\n",
      "       [ 6,  7],\n",
      "       [10, 11]])]\n"
     ]
    }
   ],
   "source": [
    "import numpy as np\n",
    "\n",
    "A = np.arange(12).reshape(3,4)\n",
    "print(A)\n",
    "#等量分割\n",
    "print(np.split(A, 2, axis=1))\n",
    "print(np.split(A, 3, axis=0))\n",
    "# print(np.split(A,3,axis=1)) 會爆炸,因為等量分割4行無法分3分\n",
    "#不等量分割\n",
    "print(np.array_split(A, 3, axis=1))\n",
    "#縱向分割\n",
    "print(np.vsplit(A, 3))\n",
    "#橫向分割\n",
    "print(np.hsplit(A, 2))"
   ]
  },
  {
   "cell_type": "code",
   "execution_count": 8,
   "metadata": {
    "collapsed": false
   },
   "outputs": [
    {
     "name": "stdout",
     "output_type": "stream",
     "text": [
      "[0 1 2 3]\n",
      "[0 1 2 3] [0 1 2 3] [0 1 2 3]\n",
      "\n",
      "[11  1  2  3]\n",
      "[11  1  2  3] [11  1  2  3] [11  1  2  3]\n",
      "\n",
      "[11 22 33  3] [11 22 33  3] [11 22 33  3] [11 22 33  3]\n",
      "\n",
      "[0 1 2 3] [0 1 2 3]\n",
      "False\n",
      "[11  1  2  3] [0 1 2 3]\n"
     ]
    }
   ],
   "source": [
    "import numpy as np\n",
    "\n",
    "a = np.arange(4)\n",
    "print(a)\n",
    "#複製array 只是指定其他變數是a 本質上一樣\n",
    "b = a\n",
    "c = a\n",
    "d = b\n",
    "print(b,c,d)\n",
    "print()\n",
    "\n",
    "a[0]=11\n",
    "print(a)\n",
    "print(b,c,d)\n",
    "print()\n",
    "\n",
    "d[1:3] = [22,33]\n",
    "print(a,b,c,d)\n",
    "print()\n",
    "#copy後兩個才是不同的array~deep copy\n",
    "e = np.arange(4)\n",
    "f = e.copy()\n",
    "print(e,f)\n",
    "print(e is f)\n",
    "e[0] = 11\n",
    "print(e,f)"
   ]
  },
  {
   "cell_type": "code",
   "execution_count": null,
   "metadata": {
    "collapsed": true
   },
   "outputs": [],
   "source": []
  }
 ],
 "metadata": {
  "kernelspec": {
   "display_name": "Python 3",
   "language": "python",
   "name": "python3"
  },
  "language_info": {
   "codemirror_mode": {
    "name": "ipython",
    "version": 3
   },
   "file_extension": ".py",
   "mimetype": "text/x-python",
   "name": "python",
   "nbconvert_exporter": "python",
   "pygments_lexer": "ipython3",
   "version": "3.6.0"
  }
 },
 "nbformat": 4,
 "nbformat_minor": 2
}
