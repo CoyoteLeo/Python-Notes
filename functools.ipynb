{
 "cells": [
  {
   "cell_type": "code",
   "execution_count": 4,
   "metadata": {},
   "outputs": [
    {
     "name": "stdout",
     "output_type": "stream",
     "text": [
      "6\n",
      "15\n"
     ]
    }
   ],
   "source": [
    "import functools\n",
    "\n",
    "# partial\n",
    "def f(a, b=3):\n",
    "    return a + b\n",
    "\n",
    "f2 = functools.partial(f, 1)\n",
    "print(f2(5))\n",
    "f3 = functools.partial(f, b=10)\n",
    "print(f3(5))"
   ]
  },
  {
   "cell_type": "code",
   "execution_count": 8,
   "metadata": {},
   "outputs": [
    {
     "name": "stdout",
     "output_type": "stream",
     "text": [
      "None\n",
      "wrapper\n",
      "this id __doc__\n",
      "func2\n"
     ]
    }
   ],
   "source": [
    "# wraps\n",
    "\n",
    "def deco(f):\n",
    "    def wrapper(*args, **kwargs):\n",
    "        return f(*args, **kwargs)\n",
    "    return wrapper\n",
    "\n",
    "@deco\n",
    "def func():\n",
    "    '''this id __doc__'''\n",
    "    return 1\n",
    "\n",
    "print(func.__doc__)\n",
    "print(func.__name__)\n",
    "\n",
    "def deco2(f):\n",
    "    @functools.wraps(f)\n",
    "    def wrapper(*args, **kwargs):\n",
    "        return f(*args, **kwargs)\n",
    "    return wrapper\n",
    "\n",
    "@deco2\n",
    "def func2():\n",
    "    '''this id __doc__'''\n",
    "    return 1\n",
    "\n",
    "print(func2.__doc__)\n",
    "print(func2.__name__)"
   ]
  },
  {
   "cell_type": "code",
   "execution_count": null,
   "metadata": {},
   "outputs": [
    {
     "data": {
      "text/plain": [
       "True"
      ]
     },
     "execution_count": 9,
     "metadata": {},
     "output_type": "execute_result"
    }
   ],
   "source": [
    "# total_ordering\n",
    "# 只需要自訂 __eq__ 跟 __lt__, __le__, __gt__, __ge__ 其中之一, total_ordering會把剩下三種自動生成\n",
    "@functools.total_ordering\n",
    "class Size(object):\n",
    "    def __init__(self, value):\n",
    "        self.value = value\n",
    "    def __lt__(self, other):\n",
    "        return self.value < other.value\n",
    "    def __eq__(self, other):\n",
    "        return self.value == other.value\n",
    "\n",
    "Size(3) > Size(2)"
   ]
  },
  {
   "cell_type": "code",
   "execution_count": 1,
   "metadata": {},
   "outputs": [
    {
     "data": {
      "text/plain": [
       "'/Users/chriskuan/.virtualenvs/Lobby/bin/python'"
      ]
     },
     "execution_count": 1,
     "metadata": {},
     "output_type": "execute_result"
    }
   ],
   "source": [
    ""
   ]
  },
  {
   "cell_type": "code",
   "execution_count": null,
   "metadata": {},
   "outputs": [],
   "source": []
  }
 ],
 "metadata": {
  "kernelspec": {
   "display_name": "Python 3",
   "language": "python",
   "name": "python3"
  },
  "language_info": {
   "codemirror_mode": {
    "name": "ipython",
    "version": 3
   },
   "file_extension": ".py",
   "mimetype": "text/x-python",
   "name": "python",
   "nbconvert_exporter": "python",
   "pygments_lexer": "ipython3",
   "version": "3.6.4"
  }
 },
 "nbformat": 4,
 "nbformat_minor": 2
}
