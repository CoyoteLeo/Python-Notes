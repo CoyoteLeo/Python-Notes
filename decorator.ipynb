{
 "cells": [
  {
   "cell_type": "code",
   "execution_count": 36,
   "metadata": {},
   "outputs": [
    {
     "name": "stdout",
     "output_type": "stream",
     "text": [
      "raw (1, 2, 3, 4, 5)\n",
      "raw {'1': 'one', '2': 'two'}\n",
      "raw\n"
     ]
    },
    {
     "data": {
      "text/plain": [
       "'done'"
      ]
     },
     "execution_count": 36,
     "metadata": {},
     "output_type": "execute_result"
    }
   ],
   "source": [
    "# 一般 decorator\n",
    "import functools\n",
    "\n",
    "def show_args(func):\n",
    "    def inner(*args, **kwargs):\n",
    "        print(func.__name__, args)\n",
    "        return func(*args, **kwargs)\n",
    "    return inner\n",
    "\n",
    "def show_kwargs(func):\n",
    "    @functools.wraps(func)  # 如果沒有這行丟進 show_args 的 func.__name__ 會是 inner\n",
    "    def inner(*args, **kwargs):\n",
    "        print(func.__name__, kwargs)\n",
    "        return func(*args, **kwargs)\n",
    "    return inner\n",
    "\n",
    "num_list = (1,2,3,4,5)\n",
    "num_dict = {'1': 'one', '2': 'two'}\n",
    "\n",
    "@show_args\n",
    "@show_kwargs\n",
    "def raw(*args, **kwargs):\n",
    "    print('raw')\n",
    "    return 'done'\n",
    "\n",
    "raw(*num_list, **num_dict)"
   ]
  },
  {
   "cell_type": "code",
   "execution_count": 61,
   "metadata": {},
   "outputs": [
    {
     "name": "stdout",
     "output_type": "stream",
     "text": [
      "args 1\n",
      "raw (1, 2, 3, 4, 5)\n",
      "kwargs 2\n",
      "raw {'1': 'one', '2': 'two'}\n",
      "raw\n"
     ]
    },
    {
     "data": {
      "text/plain": [
       "'done'"
      ]
     },
     "execution_count": 61,
     "metadata": {},
     "output_type": "execute_result"
    }
   ],
   "source": [
    "# 可以帶參數的 decorator\n",
    "import functools\n",
    "\n",
    "def show_args(a, b=0):\n",
    "    def outer(func):\n",
    "        def inner(*args, **kwargs):\n",
    "            print(a, b)\n",
    "            print(func.__name__, args)\n",
    "            return func(*args, **kwargs)\n",
    "        return inner\n",
    "    return outer\n",
    "\n",
    "def show_kwargs(a, b=0):\n",
    "    def outer(func):\n",
    "        @functools.wraps(func)\n",
    "        def inner(*args, **kwargs):\n",
    "            print(a, b)\n",
    "            print(func.__name__, kwargs)\n",
    "            return func(*args, **kwargs)\n",
    "        return inner\n",
    "    return outer\n",
    "\n",
    "@show_args('args', b=1)\n",
    "@show_kwargs('kwargs', b=2)\n",
    "def raw(*args, **kwargs):\n",
    "    print('raw')\n",
    "    return 'done'\n",
    "\n",
    "raw(*num_list, **num_dict)"
   ]
  },
  {
   "cell_type": "code",
   "execution_count": 60,
   "metadata": {},
   "outputs": [
    {
     "name": "stdout",
     "output_type": "stream",
     "text": [
      "(1, 2, 3, 4, 5)\n",
      "{'1': 'one', '2': 'two'}\n",
      "raw\n"
     ]
    },
    {
     "data": {
      "text/plain": [
       "'done'"
      ]
     },
     "execution_count": 60,
     "metadata": {},
     "output_type": "execute_result"
    }
   ],
   "source": [
    "# 一般 class 寫法的 decorator\n",
    "\n",
    "class ShowArgs:\n",
    "    def __init__(self, func):\n",
    "        self.func = func\n",
    "    \n",
    "    def __call__(self, *args, **kargs):\n",
    "        print(args)\n",
    "        result = self.func(*args, **kargs)\n",
    "        return result\n",
    "\n",
    "class ShowKwsrgs:\n",
    "    def __init__(self, func):\n",
    "        self.func = func\n",
    "    \n",
    "    def __call__(self, *args, **kargs):\n",
    "        print(kargs)\n",
    "        result = self.func(*args, **kargs)\n",
    "        return result\n",
    "\n",
    "@ShowArgs\n",
    "@ShowKwsrgs\n",
    "def raw(*args, **kwargs):\n",
    "    print('raw')\n",
    "    return 'done'\n",
    "\n",
    "raw(*num_list, **num_dict)"
   ]
  },
  {
   "cell_type": "code",
   "execution_count": 63,
   "metadata": {},
   "outputs": [
    {
     "name": "stdout",
     "output_type": "stream",
     "text": [
      "Args 1\n",
      "(1, 2, 3, 4, 5)\n",
      "Kwsrgs 2\n",
      "{'1': 'one', '2': 'two'}\n",
      "raw\n"
     ]
    },
    {
     "data": {
      "text/plain": [
       "'done'"
      ]
     },
     "execution_count": 63,
     "metadata": {},
     "output_type": "execute_result"
    }
   ],
   "source": [
    "# 可帶參數 class 寫法的 decorator\n",
    "\n",
    "class ShowArgs(object):\n",
    "    def __init__(self, a, b=0):\n",
    "        self.a = a\n",
    "        self.b = b\n",
    "\n",
    "    def __call__(self, func):\n",
    "        def inner(*args, **kargs):\n",
    "            print(self.a, self.b)\n",
    "            print(args)\n",
    "            result = func(*args, **kargs)\n",
    "            return result\n",
    "        return inner\n",
    "    \n",
    "\n",
    "class ShowKwsrgs(object):\n",
    "    def __init__(self, a, b=0):\n",
    "        self.a = a\n",
    "        self.b = b\n",
    "\n",
    "    def __call__(self, func):\n",
    "        def inner(*args, **kargs):\n",
    "            print(self.a, self.b)\n",
    "            print(kargs)\n",
    "            result = func(*args, **kargs)\n",
    "            return result\n",
    "        return inner\n",
    "    \n",
    "@ShowArgs('Args', 1)\n",
    "@ShowKwsrgs('Kwsrgs', 2)\n",
    "def raw(*args, **kwargs):\n",
    "    print('raw')\n",
    "    return 'done'\n",
    "\n",
    "raw(*num_list, **num_dict)"
   ]
  },
  {
   "cell_type": "code",
   "execution_count": null,
   "metadata": {},
   "outputs": [],
   "source": []
  }
 ],
 "metadata": {
  "kernelspec": {
   "display_name": "Python 3",
   "language": "python",
   "name": "python3"
  },
  "language_info": {
   "codemirror_mode": {
    "name": "ipython",
    "version": 3
   },
   "file_extension": ".py",
   "mimetype": "text/x-python",
   "name": "python",
   "nbconvert_exporter": "python",
   "pygments_lexer": "ipython3",
   "version": "3.6.4"
  }
 },
 "nbformat": 4,
 "nbformat_minor": 2
}
