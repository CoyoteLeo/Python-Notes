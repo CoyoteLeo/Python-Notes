{
 "cells": [
  {
   "cell_type": "markdown",
   "metadata": {},
   "source": [
    "使用 Python abc 套件的原因，是為了要解決 Python 沒有「抽象類別 (abstract class)」的問題。透過抽象類別，我們可以建立一個比起使用 hasattr() 還要更嚴格的類別介面 (class interface) 檢查。\n",
    "\n",
    "舉例而言，我們來建立一個動物的類別，我們希望之後繼承實作的類別都一定要有「screaming」以及「walk」的方法，我們可以透過 abc.ABCMeta 這個 metaclass 來實作 Animal 抽象類別"
   ]
  },
  {
   "cell_type": "code",
   "execution_count": 1,
   "metadata": {},
   "outputs": [],
   "source": [
    "import abc\n",
    " \n",
    "class Animal(metaclass=abc.ABCMeta):\n",
    " \n",
    "    @abc.abstractmethod\n",
    "    def screaming(self):\n",
    "        'Return when animal screaming the sound hear likes'\n",
    "        return NotImplemented\n",
    " \n",
    "    @abc.abstractmethod\n",
    "    def walk(self, x, y):\n",
    "        'Make animal walk to position (x, y).'\n",
    "        return NotImplemented"
   ]
  },
  {
   "cell_type": "markdown",
   "metadata": {},
   "source": [
    "如果不透過 metaclass，我們也可以透過繼承 abc.ABC 這 helper class 達到相同的效果："
   ]
  },
  {
   "cell_type": "code",
   "execution_count": 2,
   "metadata": {},
   "outputs": [],
   "source": [
    "import abc\n",
    " \n",
    "class Animal(abc.ABC):\n",
    " \n",
    "    @abc.abstractmethod\n",
    "    def screaming(self):\n",
    "        'Return when animal screaming the sound hear likes'\n",
    "        return NotImplemented\n",
    " \n",
    "    @abc.abstractmethod\n",
    "    def walk(self, x, y):\n",
    "        'Make animal walk to position (x, y).'\n",
    "        return NotImplemented\n"
   ]
  },
  {
   "cell_type": "markdown",
   "metadata": {},
   "source": [
    "當我們使用 Animal 這個抽象類別來建立類別時，就必須要實作 screaming 以及 walk 。如果沒有實作的話，Python 就會產生 TypeError："
   ]
  },
  {
   "cell_type": "code",
   "execution_count": 3,
   "metadata": {},
   "outputs": [
    {
     "ename": "TypeError",
     "evalue": "Can't instantiate abstract class Dog with abstract methods screaming, walk",
     "output_type": "error",
     "traceback": [
      "\u001b[0;31m---------------------------------------------------------------------------\u001b[0m",
      "\u001b[0;31mTypeError\u001b[0m                                 Traceback (most recent call last)",
      "\u001b[0;32m<ipython-input-3-79352c66796d>\u001b[0m in \u001b[0;36m<module>\u001b[0;34m()\u001b[0m\n\u001b[1;32m      2\u001b[0m     \u001b[0;32mpass\u001b[0m\u001b[0;34m\u001b[0m\u001b[0m\n\u001b[1;32m      3\u001b[0m \u001b[0;34m\u001b[0m\u001b[0m\n\u001b[0;32m----> 4\u001b[0;31m \u001b[0mDog\u001b[0m\u001b[0;34m(\u001b[0m\u001b[0;34m)\u001b[0m\u001b[0;34m\u001b[0m\u001b[0m\n\u001b[0m",
      "\u001b[0;31mTypeError\u001b[0m: Can't instantiate abstract class Dog with abstract methods screaming, walk"
     ]
    }
   ],
   "source": [
    "class Dog(Animal):\n",
    "    pass\n",
    "\n",
    "Dog()"
   ]
  },
  {
   "cell_type": "code",
   "execution_count": 5,
   "metadata": {},
   "outputs": [
    {
     "data": {
      "text/plain": [
       "'Wof, Wof'"
      ]
     },
     "execution_count": 5,
     "metadata": {},
     "output_type": "execute_result"
    }
   ],
   "source": [
    "# 實作Dog\n",
    "class Dog(Animal):\n",
    "    x = 0\n",
    "    y = 0\n",
    "    def screaming(self):\n",
    "        return 'Wof, Wof'\n",
    "    def walk(self, x, y):\n",
    "        self.x = x\n",
    "        self.y = y\n",
    "        return (self.x, self.y)\n",
    "\n",
    "dog = Dog()\n",
    "dog.screaming()"
   ]
  },
  {
   "cell_type": "code",
   "execution_count": 8,
   "metadata": {},
   "outputs": [
    {
     "name": "stdout",
     "output_type": "stream",
     "text": [
      "True\n",
      "True\n"
     ]
    }
   ],
   "source": [
    "# 查看類別\n",
    "print(isinstance(Dog(), Animal))\n",
    "\n",
    "print(issubclass(Dog, Animal))"
   ]
  },
  {
   "cell_type": "markdown",
   "metadata": {},
   "source": [
    "前面提到了抽象方法，那其他的類別屬性也能夠抽象化嗎？答案是可以，自 Python 3.3 版後，只需要在 method decorator 後面加上 abstractmethod 即可："
   ]
  },
  {
   "cell_type": "code",
   "execution_count": 9,
   "metadata": {},
   "outputs": [],
   "source": [
    "import abc\n",
    " \n",
    "class Base(abc.ABC):\n",
    " \n",
    "    @classmethod\n",
    "    @abc.abstractmethod\n",
    "    def setUpClass(cls):\n",
    "        return NotImplemented\n",
    " \n",
    "    @staticmethod\n",
    "    @abc.abstractmethod\n",
    "    def count(self, data):\n",
    "        return len(data)\n",
    " \n",
    " \n",
    "class Implementation(Base):\n",
    " \n",
    "    @classmethod\n",
    "    def setUpClass(cls):\n",
    "        cls.count = 0\n",
    " \n",
    "    @staticmethod\n",
    "    def count(self, data):\n",
    "        self.count = len(data)\n",
    "        return self.count"
   ]
  },
  {
   "cell_type": "markdown",
   "metadata": {},
   "source": [
    "在 class 裡面的 property 也可以要求抽象化，同樣在 decorator 下面加上 abstractmethod 即可："
   ]
  },
  {
   "cell_type": "code",
   "execution_count": 10,
   "metadata": {},
   "outputs": [
    {
     "name": "stdout",
     "output_type": "stream",
     "text": [
      "0\n",
      "50\n",
      "100\n"
     ]
    }
   ],
   "source": [
    "import abc\n",
    " \n",
    " \n",
    "class Base(abc.ABC):\n",
    "    _index = 0\n",
    " \n",
    "    @property\n",
    "    @abc.abstractmethod\n",
    "    def index(self):\n",
    "        return self._index\n",
    " \n",
    "    @index.setter\n",
    "    @abc.abstractmethod\n",
    "    def index(self, new_index):\n",
    "        self._index = new_index\n",
    " \n",
    " \n",
    "class Implementation(Base):\n",
    "    MAX_LEN = 100\n",
    " \n",
    "    @property\n",
    "    def index(self):\n",
    "        return self._index\n",
    " \n",
    "    @index.setter\n",
    "    def index(self, new_index):\n",
    "        new_index = min(new_index, self.MAX_LEN)\n",
    "        self._index = new_index\n",
    " \n",
    "imp = Implementation()\n",
    "print(imp.index)\n",
    "imp.index = 50\n",
    "print(imp.index)\n",
    "imp.index = 500\n",
    "print(imp.index)"
   ]
  },
  {
   "cell_type": "markdown",
   "metadata": {},
   "source": [
    "abc 的運作原理?\n",
    "\n",
    "abc.ABCMeta 主要做到三件事情：\n",
    "\n",
    "1. ABCMeta 是 metaclass，因此 override __new__ 方法，在這裡面會初始化 abstract 檢查的部分。\n",
    "2. override __isinstancecheck__\n",
    "3. override __issubclasscheck__"
   ]
  },
  {
   "cell_type": "code",
   "execution_count": null,
   "metadata": {},
   "outputs": [],
   "source": []
  }
 ],
 "metadata": {
  "kernelspec": {
   "display_name": "Python 3",
   "language": "python",
   "name": "python3"
  },
  "language_info": {
   "codemirror_mode": {
    "name": "ipython",
    "version": 3
   },
   "file_extension": ".py",
   "mimetype": "text/x-python",
   "name": "python",
   "nbconvert_exporter": "python",
   "pygments_lexer": "ipython3",
   "version": "3.6.4"
  }
 },
 "nbformat": 4,
 "nbformat_minor": 2
}
