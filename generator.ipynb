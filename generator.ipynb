{
 "cells": [
  {
   "cell_type": "markdown",
   "metadata": {
    "collapsed": true
   },
   "source": [
    "# 來認識一下 python generator\n",
    "\n",
    "python 中的 generator 可以方便地讓我們生成 iterator\n",
    "\n",
    "而 iterator 則可以透過 __next__ 方法來取得 iterator 的下一個值\n"
   ]
  },
  {
   "cell_type": "markdown",
   "metadata": {},
   "source": [
    "# Python Generator\n",
    "\n",
    "此筆記學習 python 生成器的筆記，主要來自 http://lotabout.me/2017/Python-Generator/ 的介紹！\n",
    "\n",
    "此篇文章介紹的非常棒，所以我決定用我的改寫紀錄一下，方便未來參考回憶！\n",
    "\n",
    "我們都知道 python 的 generator 非常方便，他實現了 itertor 與 lazy evalution 的功能，\n",
    "\n",
    "以下介紹其運作原理，話從 iterator 說起！\n"
   ]
  },
  {
   "cell_type": "code",
   "execution_count": 3,
   "metadata": {},
   "outputs": [],
   "source": [
    "# iterator\n",
    "# 假設需要獲取一個有順序的 id 物件\n",
    "# 我們可以透過這個方法來獲得\n",
    "import time\n",
    "\n",
    "def get_id_by_request(i):\n",
    "    time.sleep(5)\n",
    "    return i\n",
    "\n",
    "def get_ids(n):\n",
    "    id_list = []\n",
    "    for i in range(n):\n",
    "        id_list.append(get_id_by_request(i))\n",
    "    return id_list\n",
    "\n",
    "images = get_ids(3)\n"
   ]
  },
  {
   "cell_type": "markdown",
   "metadata": {},
   "source": [
    "但是 get_id_by_request() 是個非常耗時的工作\n",
    "\n",
    "希望可以盡量在需要他時在調用它，可以做個小修改"
   ]
  },
  {
   "cell_type": "code",
   "execution_count": 7,
   "metadata": {},
   "outputs": [],
   "source": [
    "ID = -1\n",
    "\n",
    "def next_id():\n",
    "    global ID\n",
    "    ID += 1\n",
    "    return get_id_by_request(ID)\n",
    "\n",
    "id0 = next_id()\n",
    "id1 = next_id()\n"
   ]
  },
  {
   "cell_type": "markdown",
   "metadata": {},
   "source": [
    "這樣一來我們就可以在需要下一個id時在調用這個方法\n",
    "\n",
    "就可以避免這個調用 get_id_by_request() 很耗時的問題\n",
    "\n",
    "但是這樣全局變量定義ID後，無法被第二個人使用，於是定義一個 class 來操作它"
   ]
  },
  {
   "cell_type": "code",
   "execution_count": 9,
   "metadata": {},
   "outputs": [
    {
     "name": "stdout",
     "output_type": "stream",
     "text": [
      "0\n",
      "1\n",
      "2\n",
      "3\n",
      "4\n",
      "5\n"
     ]
    }
   ],
   "source": [
    "class GetID:\n",
    "    def __init__(self):\n",
    "        self.id = -1\n",
    "        \n",
    "    def next_id(self):\n",
    "        self.id += 1\n",
    "        return get_id_by_request(self.id)\n",
    "    \n",
    "    \n",
    "id = GetID()\n",
    "id0 = id.next_id()\n",
    "id1 = id.next_id()\n",
    "\n",
    "# 而這就是一個 iterator 的概念\n",
    "# 我們可以透過實現 __iter__ 方法與 __next__ 來把 GetID 變成一個 python iterator\n",
    "\n",
    "\n",
    "class GetID:\n",
    "    def __init__(self):\n",
    "        self.id = -1\n",
    "        \n",
    "    def __iter__(self):\n",
    "        return self\n",
    "    \n",
    "    def __next__(self):\n",
    "        self.id += 1\n",
    "        return get_id_by_request(self.id)\n",
    "\n",
    "\n",
    "for id in GetID():\n",
    "    print(id)\n",
    "    if id == 5:\n",
    "        break\n"
   ]
  },
  {
   "cell_type": "markdown",
   "metadata": {},
   "source": [
    "# 從 iterator 到 generator\n",
    "\n",
    "從上面我們可以知道，我們必須自己定義 iterator 的狀態\n",
    "\n",
    "寫法上比較不直覺，於是 python 利用了 yeild 這個關鍵字\n"
   ]
  },
  {
   "cell_type": "code",
   "execution_count": 10,
   "metadata": {},
   "outputs": [
    {
     "name": "stdout",
     "output_type": "stream",
     "text": [
      "0\n",
      "1\n",
      "2\n",
      "3\n",
      "4\n",
      "5\n"
     ]
    }
   ],
   "source": [
    "# generator 改寫\n",
    "\n",
    "def get_id():\n",
    "    id = -1\n",
    "    while True:\n",
    "        id += 1\n",
    "        yield get_id_by_request(id)\n",
    "        \n",
    "for id in get_id():\n",
    "    print(id)\n",
    "    if id == 5:\n",
    "        break\n"
   ]
  },
  {
   "cell_type": "markdown",
   "metadata": {},
   "source": [
    "要寫 generator 其實乍看之下就是把 return 改成 yield\n",
    "\n",
    "事實上調用 get_id() 這個函數會返回一個 generator object\n",
    "\n",
    "他實現了 iterator 的方法！"
   ]
  },
  {
   "cell_type": "code",
   "execution_count": 11,
   "metadata": {},
   "outputs": [
    {
     "data": {
      "text/plain": [
       "2"
      ]
     },
     "execution_count": 11,
     "metadata": {},
     "output_type": "execute_result"
    }
   ],
   "source": [
    "# 比較利用 generator 寫法與字型實現 iterator 方法的 fibonacci 函數：\n",
    "def fibonacci():\n",
    "    a, b = (0, 1)\n",
    "    while True:\n",
    "        yield a\n",
    "        a, b = b, a+b\n",
    "\n",
    "fibos = fibonacci()\n",
    "next(fibos) #=> 0\n",
    "next(fibos) #=> 1\n",
    "next(fibos) #=> 1\n",
    "next(fibos) #=> 2\n",
    "\n",
    "\n",
    "class Fibonacci():\n",
    "    def __init__(self):\n",
    "        self.a, self.b = (0, 1)\n",
    "    def __iter__(self):\n",
    "        return self\n",
    "    def __next__(self):\n",
    "        result = self.a\n",
    "        self.a, self.b = self.b, self.a + self.b\n",
    "        return result\n",
    "\n",
    "fibos = Fibonacci()\n",
    "next(fibos) #=> 0\n",
    "next(fibos) #=> 1\n",
    "next(fibos) #=> 1\n",
    "next(fibos) #=> 2"
   ]
  },
  {
   "cell_type": "markdown",
   "metadata": {},
   "source": [
    "# yield 到底做了什麼？\n",
    "\n",
    "一個 generator 執行檔 yield 時會保存當前狀態，然後 return\n",
    "\n",
    "之後會把執行流還給調用的函數，直到下一次在調用這個 generator 時，\n",
    "\n",
    "會從上次保存狀態的 yield 繼續執行"
   ]
  },
  {
   "cell_type": "code",
   "execution_count": 15,
   "metadata": {},
   "outputs": [
    {
     "name": "stdout",
     "output_type": "stream",
     "text": [
      "one\n",
      "two\n",
      "three\n"
     ]
    },
    {
     "ename": "StopIteration",
     "evalue": "",
     "output_type": "error",
     "traceback": [
      "\u001b[0;31m---------------------------------------------------------------------------\u001b[0m",
      "\u001b[0;31mStopIteration\u001b[0m                             Traceback (most recent call last)",
      "\u001b[0;32m<ipython-input-15-ce8d2ed48255>\u001b[0m in \u001b[0;36m<module>\u001b[0;34m()\u001b[0m\n\u001b[1;32m     12\u001b[0m \u001b[0mnext\u001b[0m\u001b[0;34m(\u001b[0m\u001b[0mx\u001b[0m\u001b[0;34m)\u001b[0m\u001b[0;34m\u001b[0m\u001b[0m\n\u001b[1;32m     13\u001b[0m \u001b[0;34m\u001b[0m\u001b[0m\n\u001b[0;32m---> 14\u001b[0;31m \u001b[0mnext\u001b[0m\u001b[0;34m(\u001b[0m\u001b[0mx\u001b[0m\u001b[0;34m)\u001b[0m\u001b[0;34m\u001b[0m\u001b[0m\n\u001b[0m",
      "\u001b[0;31mStopIteration\u001b[0m: "
     ]
    }
   ],
   "source": [
    "def generator():\n",
    "    print('one')\n",
    "    yield            # break 1\n",
    "    print('two')\n",
    "    yield            # break 2\n",
    "    print('three')\n",
    "\n",
    "x = generator()\n",
    "\n",
    "next(x)\n",
    "\n",
    "next(x)\n",
    "\n",
    "next(x)"
   ]
  },
  {
   "cell_type": "markdown",
   "metadata": {},
   "source": [
    "我們可以看到第一次調用 next(x) 在 yield 就返回了，\n",
    "\n",
    "然後繼續執行 next() 方法則是會從 # break1 開始執行到下一個 yield\n",
    "\n",
    "直到第三次後拋出 StopIteration 的異常。\n",
    "\n",
    "而這個功能可以用在有順序關係的調用上，讓我們不會因為調用順序錯誤而造成問題！"
   ]
  },
  {
   "cell_type": "markdown",
   "metadata": {},
   "source": [
    "# yield 能做更多事嗎？\n",
    "\n",
    "若是我們可以在每一次調用 next 方法時對 yield 傳入參數\n",
    "\n",
    "在 PEP 342 中加入了相應的支持"
   ]
  },
  {
   "cell_type": "code",
   "execution_count": 19,
   "metadata": {},
   "outputs": [
    {
     "data": {
      "text/plain": [
       "2.0"
      ]
     },
     "execution_count": 19,
     "metadata": {},
     "output_type": "execute_result"
    }
   ],
   "source": [
    "# 假設我們想要計算數列上的到每個點以前的平均值\n",
    "# 我們可以使用 send() 方法來對 yield 傳入參數\n",
    "def averager():\n",
    "    sum = 0\n",
    "    num = 0\n",
    "    while True:\n",
    "        sum += (yield sum / num if num > 0 else 0)\n",
    "        num += 1\n",
    "\n",
    "x = averager()\n",
    "x.send(None)  # x 內的 sum=0 num=0 並且停在 yield 處\n",
    "#=> 0\n",
    "x.send(1)  # 從 yield 處開始調用，並且傳入 1， 此時 sum=1, num=1 經過迴圈， yield 1，此時狀態 sum=1 num=1\n",
    "#=> 1.0\n",
    "x.send(2)  # 從 yield 處開始調用，並且傳入 2， 此時 sum=3, num=2 經過迴圈， yield 1.5，此時狀態 sum=3 num=2\n",
    "#=> 1.5\n",
    "x.send(3)\n",
    "#=> 2.0"
   ]
  },
  {
   "cell_type": "markdown",
   "metadata": {},
   "source": [
    "原本的 yield 從語句變成了表達式，所以我們可以把 yield 寫成\n",
    "\n",
    "x = yield 10, y = 10 + (yield), foo(yield 42)\n",
    "\n",
    "Python 規定，除非 yield 左邊直接跟著等號，否則必須用括號括起來！\n",
    "\n",
    "當 Python 執行到 yield 表達式時，它首先計算 yield 右邊的表達式，\n",
    "上例中即為 sum / num if num > 0 else 0 的值，暫停當前的控制流，並返回。\n",
    "\n",
    "之後，除了可以用 next(generator) 的方式（即 iterator 的方式）來恢復控制流之外，\n",
    "還可以通過 generator.send(some_value) 來傳遞一些值。\n",
    "\n",
    "例如上例中，如果我們調用 x.send(3) 則 Python 恢復控制流， \n",
    "(yield sum/sum ...) 的值則為我們賦予的 3，並接著執行 sum += 3 以及之後的語句。\n",
    "注意的是，如果這時我們用的是 next(generator) 則它等價為 generator.send(None)。\n",
    "\n",
    "最後要注意的是，剛調用generator 生成 generator object 時，函數並沒有真正運行，\n",
    "也就是說這時控制流並不在yield 表達式上等待用戶傳遞值，\n",
    "因此我們需要先調用generate.send(None) 或next(generator) 來觸發最開始的執行。"
   ]
  },
  {
   "cell_type": "code",
   "execution_count": 20,
   "metadata": {},
   "outputs": [
    {
     "data": {
      "text/plain": [
       "2.0"
      ]
     },
     "execution_count": 20,
     "metadata": {},
     "output_type": "execute_result"
    }
   ],
   "source": [
    "class Averager:\n",
    "    def __init__(self):\n",
    "        self.sum = 0\n",
    "        self.num = 0\n",
    "    def avg_num(self, n):\n",
    "        self.sum += n\n",
    "        self.num += 1\n",
    "        return self.sum / self.num\n",
    "averager = Averager()\n",
    "averager.avg_num(1)\n",
    "#=> 1.0\n",
    "averager.avg_num(2)\n",
    "#=> 1.5\n",
    "averager.avg_num(3)\n",
    "#=> 2.0"
   ]
  },
  {
   "cell_type": "markdown",
   "metadata": {},
   "source": [
    "我們在看到上面使用的方法，明顯比 generator 直覺許多，\n",
    "\n",
    "所以用 send() 方法 對 yield 傳入值，主要並不是要用在這裡的。\n",
    "\n",
    "他真正的需求是 \"coroutine(協程)\" 用來實現 python 的異步編程！ "
   ]
  },
  {
   "cell_type": "markdown",
   "metadata": {},
   "source": [
    "# yield from\n",
    "\n",
    "考慮我們有多個 generator 並想把 generator 組合起來，如："
   ]
  },
  {
   "cell_type": "code",
   "execution_count": 2,
   "metadata": {},
   "outputs": [
    {
     "name": "stdout",
     "output_type": "stream",
     "text": [
      "1\n",
      "3\n",
      "5\n",
      "0\n",
      "2\n",
      "4\n"
     ]
    }
   ],
   "source": [
    "def odds(n):\n",
    "    for i in range(n):\n",
    "        if i % 2 == 1:\n",
    "            yield i\n",
    "\n",
    "def evens(n):\n",
    "    for i in range(n):\n",
    "        if i % 2 == 0:\n",
    "            yield i\n",
    "\n",
    "def odd_even(n):\n",
    "    for x in odds(n):\n",
    "        yield x\n",
    "    for x in evens(n):\n",
    "        yield x\n",
    "\n",
    "for x in odd_even(6):\n",
    "    print(x)\n",
    "#=> 1, 3, 5, 0, 2, 4"
   ]
  },
  {
   "cell_type": "markdown",
   "metadata": {},
   "source": [
    "for x in generator(): yield x 這種寫法不太方便，\n",
    "\n",
    "因此 PEP 380 引入了 yield from 語法，\n",
    "\n",
    "來替代我們前面說的這種語法，因此上面的例子可以改成："
   ]
  },
  {
   "cell_type": "code",
   "execution_count": 3,
   "metadata": {},
   "outputs": [
    {
     "name": "stdout",
     "output_type": "stream",
     "text": [
      "1\n",
      "3\n",
      "5\n",
      "0\n",
      "2\n",
      "4\n"
     ]
    }
   ],
   "source": [
    "def odd_even(n):\n",
    "    yield from odds(n)\n",
    "    yield from evens(n)\n",
    "    \n",
    "for x in odd_even(6):\n",
    "    print(x)"
   ]
  },
  {
   "cell_type": "code",
   "execution_count": 7,
   "metadata": {},
   "outputs": [
    {
     "name": "stdout",
     "output_type": "stream",
     "text": [
      "<function func at 0x109b0cb70> <function gene at 0x109b0c048>\n",
      "[0, 1, 2, 3, 4, 5, 6, 7, 8, 9, 10, 11, 12, 13, 14, 15, 16, 17, 18, 19, 20, 21, 22, 23, 24, 25, 26, 27, 28, 29, 30, 31, 32, 33, 34, 35, 36, 37, 38, 39, 40, 41, 42, 43, 44, 45, 46, 47, 48, 49, 50, 51, 52, 53, 54, 55, 56, 57, 58, 59, 60, 61, 62, 63, 64, 65, 66, 67, 68, 69, 70, 71, 72, 73, 74, 75, 76, 77, 78, 79, 80, 81, 82, 83, 84, 85, 86, 87, 88, 89, 90, 91, 92, 93, 94, 95, 96, 97, 98, 99] <generator object gene at 0x109ae4eb8>\n",
      "[0, 1, 2, 3, 4, 5, 6, 7, 8, 9, 10, 11, 12, 13, 14, 15, 16, 17, 18, 19, 20, 21, 22, 23, 24, 25, 26, 27, 28, 29, 30, 31, 32, 33, 34, 35, 36, 37, 38, 39, 40, 41, 42, 43, 44, 45, 46, 47, 48, 49, 50, 51, 52, 53, 54, 55, 56, 57, 58, 59, 60, 61, 62, 63, 64, 65, 66, 67, 68, 69, 70, 71, 72, 73, 74, 75, 76, 77, 78, 79, 80, 81, 82, 83, 84, 85, 86, 87, 88, 89, 90, 91, 92, 93, 94, 95, 96, 97, 98, 99]\n"
     ]
    }
   ],
   "source": [
    "# 練習1\n",
    "\n",
    "def func(n):\n",
    "    return list(range(n))\n",
    "\n",
    "def gene(n):\n",
    "    for i in range(n):\n",
    "        yield i\n",
    "\n",
    "print(func, gene)\n",
    "print(func(100), gene(100))\n",
    "print(list(gene(100)))"
   ]
  },
  {
   "cell_type": "code",
   "execution_count": 34,
   "metadata": {},
   "outputs": [
    {
     "name": "stdout",
     "output_type": "stream",
     "text": [
      "None\n",
      "ab\n",
      "bac\n",
      "dnc\n",
      "dnc\n",
      "dnc\n",
      "dpc\n",
      "dggc\n"
     ]
    }
   ],
   "source": [
    "# 練習2 \n",
    "\n",
    "NoneType = type(None)\n",
    "def guess_string():\n",
    "    s = 'a'\n",
    "    yield\n",
    "    s += 'b'\n",
    "    yield s\n",
    "    while True:\n",
    "        s = s[::-1]\n",
    "        s = yield s + 'c'\n",
    "        if isinstance(s, NoneType):\n",
    "            s = 'n'\n",
    "        s += 'd'\n",
    "    \n",
    "gs = guess_string()\n",
    "print(gs.__next__())  # None\n",
    "print(gs.__next__())  # ab\n",
    "print(gs.__next__())  # bac\n",
    "print(gs.__next__())  # dnc\n",
    "print(gs.__next__())  # dnc\n",
    "print(gs.send(None))  # dnc\n",
    "print(gs.send('p'))   # dpc\n",
    "print(gs.send('gg'))  # dggc"
   ]
  },
  {
   "cell_type": "code",
   "execution_count": 52,
   "metadata": {},
   "outputs": [
    {
     "name": "stdout",
     "output_type": "stream",
     "text": [
      "6 in_odd_even\n",
      "0 in_odds\n",
      "1 in_odds\n",
      "1 in_odd_even_odds\n",
      "1\n",
      "2 in_odds\n",
      "3 in_odds\n",
      "3 in_odd_even_odds\n",
      "3\n",
      "4 in_odds\n",
      "5 in_odds\n",
      "5 in_odd_even_odds\n",
      "5\n",
      "0 in_evens\n",
      "0 in_odd_even_evens\n",
      "0\n",
      "1 in_evens\n",
      "2 in_evens\n",
      "2 in_odd_even_evens\n",
      "2\n",
      "3 in_evens\n",
      "4 in_evens\n",
      "4 in_odd_even_evens\n",
      "4\n",
      "5 in_evens\n"
     ]
    }
   ],
   "source": [
    "def odds(n):\n",
    "    for i in range(n):\n",
    "        print(i, 'in_odds')\n",
    "        if i % 2 == 1:\n",
    "            yield i\n",
    "\n",
    "def evens(n):\n",
    "    for i in range(n):\n",
    "        print(i, 'in_evens')\n",
    "        if i % 2 == 0:\n",
    "            yield i\n",
    "\n",
    "def odd_even(n):\n",
    "    print(n, 'in_odd_even')\n",
    "    for x in odds(n):\n",
    "        print(x, 'in_odd_even_odds')\n",
    "        yield x\n",
    "    for x in evens(n):\n",
    "        print(x, 'in_odd_even_evens')\n",
    "        yield x\n",
    "    \n",
    "\n",
    "for x in odd_even(6):\n",
    "    print(x)\n",
    "#=> 1, 3, 5, 0, 2, 4"
   ]
  },
  {
   "cell_type": "code",
   "execution_count": 54,
   "metadata": {},
   "outputs": [
    {
     "name": "stdout",
     "output_type": "stream",
     "text": [
      "6 in_odd_even2\n",
      "0 in_odds\n",
      "1 in_odds\n",
      "1\n",
      "2 in_odds\n",
      "3 in_odds\n",
      "3\n",
      "4 in_odds\n",
      "5 in_odds\n",
      "5\n",
      "pass1\n",
      "0 in_evens\n",
      "0\n",
      "1 in_evens\n",
      "2 in_evens\n",
      "2\n",
      "3 in_evens\n",
      "4 in_evens\n",
      "4\n",
      "5 in_evens\n",
      "pass2\n"
     ]
    }
   ],
   "source": [
    "def odds(n):\n",
    "    for i in range(n):\n",
    "        print(i, 'in_odds')\n",
    "        if i % 2 == 1:\n",
    "            yield i\n",
    "\n",
    "def evens(n):\n",
    "    for i in range(n):\n",
    "        print(i, 'in_evens')\n",
    "        if i % 2 == 0:\n",
    "            yield i\n",
    "        \n",
    "def odd_even2(n):\n",
    "    print(n, 'in_odd_even2')\n",
    "    yield from odds(n)\n",
    "    print('pass1')\n",
    "    yield from evens(n)\n",
    "    print('pass2')\n",
    "\n",
    "for x in odd_even2(6):\n",
    "    print(x)\n",
    "#=> 1, 3, 5, 0, 2, 4"
   ]
  },
  {
   "cell_type": "code",
   "execution_count": null,
   "metadata": {},
   "outputs": [],
   "source": []
  }
 ],
 "metadata": {
  "kernelspec": {
   "display_name": "Python 3",
   "language": "python",
   "name": "python3"
  },
  "language_info": {
   "codemirror_mode": {
    "name": "ipython",
    "version": 3
   },
   "file_extension": ".py",
   "mimetype": "text/x-python",
   "name": "python",
   "nbconvert_exporter": "python",
   "pygments_lexer": "ipython3",
   "version": "3.6.4"
  }
 },
 "nbformat": 4,
 "nbformat_minor": 1
}
