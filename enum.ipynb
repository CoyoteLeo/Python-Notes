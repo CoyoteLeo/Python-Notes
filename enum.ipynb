{
 "cells": [
  {
   "cell_type": "markdown",
   "metadata": {},
   "source": [
    "# Support for enumerations\n",
    "\n",
    "可以用來生成枚舉類，來替代一般利用變數當常數的問題！"
   ]
  },
  {
   "cell_type": "code",
   "execution_count": 1,
   "metadata": {},
   "outputs": [],
   "source": [
    "# 一般定義常數用法\n",
    "# 缺點是變數還是可能被更改\n",
    "RED = 1\n",
    "GREEN = 2\n",
    "BLUE = 3"
   ]
  },
  {
   "cell_type": "code",
   "execution_count": 3,
   "metadata": {},
   "outputs": [
    {
     "name": "stdout",
     "output_type": "stream",
     "text": [
      "Color.RED\n",
      "<Color.RED: 1>\n",
      "<enum 'Color'>\n",
      "True\n",
      "RED\n",
      "1\n"
     ]
    }
   ],
   "source": [
    "# 利用枚舉類來定義，好處是類屬性不會重複，且不易被更改\n",
    "from enum import Enum\n",
    "\n",
    "class Color(Enum):\n",
    "    RED = 1\n",
    "    GREEN = 2\n",
    "    BLUE = 3\n",
    "\n",
    "print(Color.RED)\n",
    "print(repr(Color.RED))\n",
    "print(type(Color.RED))\n",
    "print(isinstance(Color.GREEN, Color))\n",
    "print(Color.RED.name)\n",
    "print(Color.RED.value)"
   ]
  },
  {
   "cell_type": "code",
   "execution_count": 6,
   "metadata": {},
   "outputs": [
    {
     "name": "stdout",
     "output_type": "stream",
     "text": [
      "Color.RED\n",
      "Car.A\n",
      "False\n",
      "True\n"
     ]
    }
   ],
   "source": [
    "from enum import Enum, unique\n",
    "\n",
    "@unique  # 讓枚舉類的值要唯一，解開 PURPLE 會有錯誤\n",
    "class Color(Enum):\n",
    "    RED = 1\n",
    "    GREEN = 2\n",
    "    BLUE = 3\n",
    "    #PURPLE = 3\n",
    "    \n",
    "class Car(Enum):\n",
    "    A = 1\n",
    "    B = 2\n",
    "    C = 3\n",
    "    \n",
    "print(Color.RED)\n",
    "print(Car.A)\n",
    "print(Color.RED == Car.A)  # 好處之一，可辨識的常量\n",
    "print(Color.RED.value == Car.A.value)"
   ]
  },
  {
   "cell_type": "code",
   "execution_count": 8,
   "metadata": {},
   "outputs": [
    {
     "name": "stdout",
     "output_type": "stream",
     "text": [
      "Color.RED\n",
      "Car.A\n",
      "True\n"
     ]
    }
   ],
   "source": [
    "from enum import IntEnum\n",
    "\n",
    "class Color(IntEnum):\n",
    "    RED = 1\n",
    "    GREEN = 2\n",
    "    BLUE = 3\n",
    "    \n",
    "class Car(IntEnum):\n",
    "    A = 1\n",
    "    B = 2\n",
    "    C = 3\n",
    "    \n",
    "print(Color.RED)\n",
    "print(Car.A)\n",
    "print(Color.RED == Car.A)  # IntEnum 顧名思義就是整數，比對繼承 Enum 的判斷"
   ]
  },
  {
   "cell_type": "code",
   "execution_count": null,
   "metadata": {},
   "outputs": [],
   "source": []
  }
 ],
 "metadata": {
  "kernelspec": {
   "display_name": "Python 3",
   "language": "python",
   "name": "python3"
  },
  "language_info": {
   "codemirror_mode": {
    "name": "ipython",
    "version": 3
   },
   "file_extension": ".py",
   "mimetype": "text/x-python",
   "name": "python",
   "nbconvert_exporter": "python",
   "pygments_lexer": "ipython3",
   "version": "3.6.4"
  }
 },
 "nbformat": 4,
 "nbformat_minor": 2
}
