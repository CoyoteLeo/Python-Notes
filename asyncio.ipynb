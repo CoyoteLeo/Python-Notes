{
 "cells": [
  {
   "cell_type": "markdown",
   "metadata": {},
   "source": [
    "# asyncio 內部實現機制\n",
    "\n",
    "首先因為 GIL 的關係，python 在單進程(process)的情況下，\n",
    "\n",
    "線程(thread)無法並行(parallelism)，但是可以並發(concurrency)，\n",
    "\n",
    "而多線程的並發在切換線程時，需要耗費較大的資源，\n",
    "\n",
    "所以發展了協程(coroutine)的概念，即在單一線程下，當遇到I/O阻塞的時候，\n",
    "\n",
    "把控制流讓出來給別的程式執行，並且等待回覆後續處理的過程。\n",
    "\n",
    "asyncio 透過 event loop & coroutines & futures 來構造並發的能力！\n",
    "\n",
    "這篇教學是參考 [此教程](https://segmentfault.com/a/1190000008814676) 寫得非常棒，大家也可以去看看！\n"
   ]
  },
  {
   "cell_type": "markdown",
   "metadata": {},
   "source": [
    "## async\n",
    "\n",
    "定義 coroutine，它是一個特別的函數，類似於 python 中的 generators，\n",
    "\n",
    "可以利用 await 來掛起控制流，並且把控制流歸還給 event loop 調度，\n",
    "\n",
    "在 def 前加上 async\n",
    "\n",
    "如何運行 coroutine：\n",
    "* 在另一個已經運行的協程中用 `await` 等待它\n",
    "* 通過 `ensure_future` 函數計劃它的執行\n",
    "\n",
    "***簡單來說只有 event loop 運行了，協程才會運行***"
   ]
  },
  {
   "cell_type": "code",
   "execution_count": 7,
   "metadata": {},
   "outputs": [
    {
     "name": "stdout",
     "output_type": "stream",
     "text": [
      "True\n",
      "False\n",
      "True\n"
     ]
    }
   ],
   "source": [
    "import asyncio\n",
    "\n",
    "\n",
    "async def is_coroutine(x):\n",
    "    print(f'sleep {x} second')\n",
    "    await asyncio.sleep(x)\n",
    "    print('done')\n",
    "\n",
    "print(asyncio.iscoroutinefunction(is_coroutine))\n",
    "print(asyncio.iscoroutine(is_coroutine))\n",
    "\n",
    "coroutine_obj = is_coroutine(5)  # 調用 async def 函數會返回一個 coroutine object\n",
    "\n",
    "print(asyncio.iscoroutine(coroutine_obj))\n",
    "\n",
    "# 出現警告，因為並沒有辦法直接運行 coroutine object\n",
    "# sys:1: RuntimeWarning: coroutine 'is_coroutine' was never awaited"
   ]
  },
  {
   "cell_type": "markdown",
   "metadata": {},
   "source": [
    "## await\n",
    "\n",
    "什麼是 future ?\n",
    "\n",
    "為了執行 coroutine 我們必須把它註冊到 event loop 中，讓 event loop 調度，\n",
    "\n",
    "而 coroutine 註冊進 event loop 時會被包裝成一個 task，而 future 就代表了這個 task 的結果。\n",
    "\n",
    "這個結果可能是被執行的結果，或者尚未被執行的又或者他可能是一個被執行後拋出的例外！\n",
    "\n",
    "await 做了什麼:\n",
    "* 等待一個 future 結束\n",
    "* 等待另一個協程（產生一個結果，或引發一個異常）\n",
    "* 產生一個結果給正在等它的協程\n",
    "* 引發一個異常給正在等它的協程"
   ]
  },
  {
   "cell_type": "markdown",
   "metadata": {},
   "source": [
    "## event loop\n",
    "\n",
    "要運行協程，要先有一個 event loop，\n",
    "\n",
    "event loop 實質上就是用來管理和分配不同 tasks 的執行，\n",
    "\n",
    "把所有的 tasks 註冊給 event loop，讓 event loop 調度控制流程，\n",
    "\n",
    "可以透過 asyncio.get_event_loop() 來得到一個 event loop!\n",
    "\n",
    "然後調用這個阻塞式的函數 run_until_complete() 來得到結果\n",
    "\n",
    "***run_until_complete 會把所有協程運行完畢才回傳結果***\n",
    "\n",
    "ex.\n",
    "```python\n",
    "import asyncio\n",
    "\n",
    "async def is_coroutine(x):\n",
    "    print(f'sleep {x} second')\n",
    "    await asyncio.sleep(x)\n",
    "    print('done')\n",
    "    \n",
    "loop = asyncio.get_event_loop()\n",
    "loop.run_until_complete(is_coroutine(5))\n",
    "```\n",
    "\n",
    "run_until_complete() 所接的參數是 future，而為什麼我們把 coroutine 對象傳進去，\n",
    "\n",
    "也不會有問題是因為，函數內部透過 ensure_future 檢查，把協程對象包裝(wrap)成了future\n",
    "\n",
    "所以寫的正確一點應該是:\n",
    "\n",
    "```python\n",
    "loop.run_until_complete(asyncio.ensure_future(is_coroutine(5)))\n",
    "```\n",
    "\n",
    "p.s. 我們有提到 await 跟 coroutine 的關係，再看看上述範例的 await asyncio.sleep(x)，\n",
    "\n",
    "你就可以知道，asyncio.sleep(x)，本身其實就是一個 coroutine！"
   ]
  },
  {
   "cell_type": "markdown",
   "metadata": {},
   "source": [
    "## callback\n",
    "\n",
    "future 對象，可以透過 add_done_callback 函數，給 callback！\n",
    "\n",
    "## 多個協程\n",
    "\n",
    "實際項目中，往往有多個協程，同時在一個 loop 裡運行。為了把多個協程交給 loop，需要藉助 asyncio.gather 函數。\n",
    "\n",
    "gather 起聚合的作用，把多個 futures 包裝成單個 future，因為 loop.run_until_complete 只接受單個 future"
   ]
  },
  {
   "cell_type": "markdown",
   "metadata": {},
   "source": [
    "## run_until_complete 和 run_forever\n",
    "\n",
    "通過 run_until_complete 來運行 loop ，等到 future 完成，run_until_complete 也就返回了\n",
    "\n",
    "run_forever 則是直到調用 stop() 才會返回。\n",
    "\n",
    "ex.\n",
    "```bash\n",
    "$ python event_loop.py \n",
    ">sleep 5 second\n",
    ">done\n",
    "$\n",
    "表示程序退出\n",
    "```\n",
    "\n",
    "```bash\n",
    "$ python run_forever.py\n",
    ">sleep 3 second\n",
    ">done\n",
    "\n",
    "\n",
    "... 不會結束，只好 control + c\n",
    "```\n",
    "\n",
    "調用 stop\n",
    "```\n",
    "$ python run_forever_and_stop.py \n",
    ">sleep 3 second\n",
    ">done by sleep 3 second\n",
    "$\n",
    "```\n",
    "\n",
    "注意一旦調用了 stop() loop 就會停止，所以若是把 run_forever_and_stop.py 中，\n",
    "\n",
    "第 21~22 行註解拿掉在運行一次:\n",
    "\n",
    "```\n",
    "$ python run_forever_and_stop.py \n",
    ">sleep 3 second\n",
    ">sleep 1 second\n",
    ">done by sleep 1 second\n",
    "$\n",
    "```\n",
    "\n",
    "程式等待了一秒就返回停止，並沒有等待 coroutine 回傳，因為 loop 在執行 coroutine2 時已經被 stop()!\n",
    "\n",
    "要解決這個問題，可以用 gather 把多個協程合併成一個 future，並添加回調，然後在回調裡再去停止 loop。\n",
    "\n",
    "可以查看 forever_to_complete.py 代碼，並運行看看結果！"
   ]
  },
  {
   "cell_type": "markdown",
   "metadata": {},
   "source": [
    "## loop close\n",
    "\n",
    "上面的範例代碼，都沒有調用 loop.close()，到底要不要調用呢？\n",
    "\n",
    "簡單的來說，只要 loop 不被關閉，都可以在運行！\n",
    "\n",
    "但是如果先關閉的，之後在運行 loop 會發生錯誤，\n",
    "\n",
    "大家可以嘗試著運行腳本 close.py，並且解除第 14 行註解，在運行看看差異！\n",
    "\n",
    "建議調用 close 來關閉 loop，以免在之後 loop 對象遭到誤用！"
   ]
  },
  {
   "cell_type": "markdown",
   "metadata": {},
   "source": [
    "## gather vs. wait\n",
    "\n",
    "asyncio.gather 和 asyncio.wait 功能相似。\n",
    "\n",
    "```\n",
    "coroutines = [is_coroutine(loop, 1), is_coroutine(loop, 3)]\n",
    "loop.run_until_complete(asyncio.wait(coroutines))\n",
    "```\n",
    "可以得到跟 gather 差不多得結果，為什麼呢？\n",
    "\n",
    "gather 在命名的意義上是等待蒐集全部 future 的回傳的 results，\n",
    "\n",
    "而 await 相對於 gather 是較為底層的應用，await 只是單純等待 future！\n",
    "\n",
    "差異可以參考這篇 [stack overflow](https://stackoverflow.com/questions/42231161/asyncio-gather-vs-asyncio-wait)"
   ]
  },
  {
   "cell_type": "markdown",
   "metadata": {},
   "source": [
    "## Timer\n",
    "\n",
    "python 在 acyncio 並沒有提供原生的計時器，不過可以透過 asynic.sleep() 的方式實作，\n",
    "\n",
    "```python\n",
    "import asyncio\n",
    "\n",
    "async def timer(x, cb):\n",
    "    futu = asyncio.ensure_future(asyncio.sleep(x))\n",
    "    futu.add_done_callback(cb)\n",
    "    await futu\n",
    "\n",
    "t = timer(3, lambda futu: print('Done'))\n",
    "```\n",
    "\n",
    "可以試著看一下 timer.py 腳本，並且運行看看！\n",
    "\n",
    "## flow of control\n",
    "\n",
    "1. the event loop is running in a thread\n",
    "2. the event loop get a task from queue\n",
    "3. run coroutine1 from task1\n",
    "4. coroutine1 call another coroutine( await <coroutine> )\n",
    "5. I/O blocking or not:\n",
    "    * yes: current coroutine1 gets suspended and control is passed back to the event loop.\n",
    "    * no: current coroutine1 gets suspended and context switch occurs.\n",
    "6. event loop gets next task from queue2, ...n\n",
    "7. then the event loop goes back to task 1 from where it left off\n"
   ]
  },
  {
   "cell_type": "code",
   "execution_count": 14,
   "metadata": {},
   "outputs": [
    {
     "name": "stdout",
     "output_type": "stream",
     "text": [
      "test_1 task1\n",
      "base_1-io task1\n",
      "base_2-io task1\n",
      "base_done_3 task1\n",
      "test_2 task1\n",
      "base_1-io task1\n",
      "base_2-io task1\n",
      "base_done_3 task1\n",
      "test_done_3 task1\n",
      "((None, None, 'task1'), (None, None, 'task1'), 'task1')\n",
      "[((None, None, 'task1'), (None, None, 'task1'), 'task1'), ((None, None, 'task1'), (None, None, 'task1'), 'task1')]\n"
     ]
    }
   ],
   "source": [
    "import asyncio\n",
    "import aiohttp\n",
    "    \n",
    "async def base(n):\n",
    "    print('base_1-io', n)\n",
    "    res1 = await asyncio.sleep(3)\n",
    "    print('base_2-io', n)\n",
    "    res2 = await asyncio.sleep(3)\n",
    "    print('base_done_3', n)\n",
    "    return res1, res2 ,n\n",
    "\n",
    "async def test(n):\n",
    "    print('test_1', n)\n",
    "    res1 = await base(n)\n",
    "    print('test_2', n)\n",
    "    res2 = await base(n)\n",
    "    print('test_done_3', n)\n",
    "    return res1, res2, n\n",
    "\n",
    "loop = asyncio.get_event_loop()\n",
    "task = asyncio.ensure_future(test('task1'))\n",
    "# task2 = asyncio.ensure_future(test('task2'))\n",
    "all_task = asyncio.gather(*[task, task])\n",
    "loop.run_until_complete(all_task)\n",
    "print(task.result())\n",
    "# print(task2.result())\n",
    "print(all_task.result())"
   ]
  },
  {
   "cell_type": "code",
   "execution_count": 15,
   "metadata": {},
   "outputs": [
    {
     "data": {
      "text/plain": [
       "[1, 1]"
      ]
     },
     "execution_count": 15,
     "metadata": {},
     "output_type": "execute_result"
    }
   ],
   "source": [
    "a = [1]\n",
    "a*2\n"
   ]
  },
  {
   "cell_type": "code",
   "execution_count": null,
   "metadata": {},
   "outputs": [],
   "source": []
  }
 ],
 "metadata": {
  "kernelspec": {
   "display_name": "Python 3",
   "language": "python",
   "name": "python3"
  },
  "language_info": {
   "codemirror_mode": {
    "name": "ipython",
    "version": 3
   },
   "file_extension": ".py",
   "mimetype": "text/x-python",
   "name": "python",
   "nbconvert_exporter": "python",
   "pygments_lexer": "ipython3",
   "version": "3.6.4"
  }
 },
 "nbformat": 4,
 "nbformat_minor": 2
}
